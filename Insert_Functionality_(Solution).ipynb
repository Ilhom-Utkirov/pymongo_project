{
 "cells": [
  {
   "cell_type": "markdown",
   "id": "c072c786",
   "metadata": {},
   "source": [
    "# MongoDB Insert Functionality\n",
    "\n",
    "Go over how to use the various insert functions of the pymongo module. "
   ]
  },
  {
   "cell_type": "markdown",
   "id": "7e1e03d8",
   "metadata": {},
   "source": [
    "### Import pymongo, and MongoClient"
   ]
  },
  {
   "cell_type": "code",
   "execution_count": 1,
   "id": "06ed17e9",
   "metadata": {},
   "outputs": [],
   "source": [
    "import pymongo\n",
    "from pymongo import MongoClient"
   ]
  },
  {
   "cell_type": "markdown",
   "id": "c71dc5dc",
   "metadata": {},
   "source": [
    "### Initalize A Client, Connect To DB, Speicfy Collection"
   ]
  },
  {
   "cell_type": "code",
   "execution_count": 3,
   "id": "2c6054da",
   "metadata": {},
   "outputs": [],
   "source": [
    "client = MongoClient(\"mongodb://localhost:27017/\")\n",
    "db = client[\"my_store\"]\n",
    "products_col = db[\"products\"]"
   ]
  },
  {
   "cell_type": "markdown",
   "id": "d3ff25aa",
   "metadata": {},
   "source": [
    "### insert()\n",
    "*Deprecated, Do Not Use In Your Applications*"
   ]
  },
  {
   "cell_type": "code",
   "execution_count": 4,
   "id": "95620006",
   "metadata": {},
   "outputs": [],
   "source": [
    "bag = {\"name\": \"Bag\", \"price\": 23.78}"
   ]
  },
  {
   "cell_type": "code",
   "execution_count": 5,
   "id": "a423335b",
   "metadata": {},
   "outputs": [
    {
     "name": "stderr",
     "output_type": "stream",
     "text": [
      "C:\\Users\\Ilhom\\AppData\\Local\\Temp\\ipykernel_4960\\1767564502.py:1: DeprecationWarning: insert is deprecated. Use insert_one or insert_many instead.\n",
      "  insert_res = products_col.insert(bag)\n"
     ]
    },
    {
     "data": {
      "text/plain": [
       "ObjectId('6408889413dd17cc114c9b68')"
      ]
     },
     "execution_count": 5,
     "metadata": {},
     "output_type": "execute_result"
    }
   ],
   "source": [
    "insert_res = products_col.insert(bag)\n",
    "insert_res"
   ]
  },
  {
   "cell_type": "code",
   "execution_count": 8,
   "id": "73745dc3",
   "metadata": {},
   "outputs": [],
   "source": [
    "phone = {\"name\": \"iPhone 11\", \"price\": 800}\n",
    "notebook = {\"name\": \"Notebook\", \"price\": 4.99}"
   ]
  },
  {
   "cell_type": "code",
   "execution_count": 9,
   "id": "56565a31",
   "metadata": {},
   "outputs": [
    {
     "name": "stderr",
     "output_type": "stream",
     "text": [
      "C:\\Users\\Ilhom\\AppData\\Local\\Temp\\ipykernel_4960\\1120606972.py:1: DeprecationWarning: insert is deprecated. Use insert_one or insert_many instead.\n",
      "  insert_res_multiple = products_col.insert([phone, notebook])\n"
     ]
    },
    {
     "data": {
      "text/plain": [
       "[ObjectId('6408895013dd17cc114c9b6b'), ObjectId('6408895013dd17cc114c9b6c')]"
      ]
     },
     "execution_count": 9,
     "metadata": {},
     "output_type": "execute_result"
    }
   ],
   "source": [
    "insert_res_multiple = products_col.insert([phone, notebook])\n",
    "insert_res_multiple"
   ]
  },
  {
   "cell_type": "markdown",
   "id": "45033572",
   "metadata": {},
   "source": [
    "### insert_one()"
   ]
  },
  {
   "cell_type": "code",
   "execution_count": 10,
   "id": "5836fa5d",
   "metadata": {},
   "outputs": [],
   "source": [
    "pens = {\"name\": \"Pens\", \"price\": 9.58}"
   ]
  },
  {
   "cell_type": "code",
   "execution_count": 11,
   "id": "0a703c04",
   "metadata": {},
   "outputs": [
    {
     "data": {
      "text/plain": [
       "<pymongo.results.InsertOneResult at 0x1704fb1a040>"
      ]
     },
     "execution_count": 11,
     "metadata": {},
     "output_type": "execute_result"
    }
   ],
   "source": [
    "insert_one_res = products_col.insert_one(pens)\n",
    "insert_one_res"
   ]
  },
  {
   "cell_type": "code",
   "execution_count": 12,
   "id": "1a06b1eb",
   "metadata": {},
   "outputs": [
    {
     "name": "stdout",
     "output_type": "stream",
     "text": [
      "True\n",
      "6408895713dd17cc114c9b6d\n"
     ]
    }
   ],
   "source": [
    "print(insert_one_res.acknowledged)\n",
    "print(insert_one_res.inserted_id) # return id"
   ]
  },
  {
   "cell_type": "markdown",
   "id": "e48a5815",
   "metadata": {},
   "source": [
    "### insert_many()"
   ]
  },
  {
   "cell_type": "code",
   "execution_count": null,
   "id": "3bac85d6",
   "metadata": {},
   "outputs": [],
   "source": [
    "water_bottle = {\"name\": \"Water Bottle\", \"price\": 14.85}\n",
    "jar = {\"name\": \"Jar\", \"price\": 4.99}"
   ]
  },
  {
   "cell_type": "code",
   "execution_count": null,
   "id": "a731cffe",
   "metadata": {},
   "outputs": [],
   "source": [
    "insert_many_res = products_col.insert_many([water_bottle, jar])\n",
    "insert_many_res"
   ]
  },
  {
   "cell_type": "code",
   "execution_count": null,
   "id": "10414449",
   "metadata": {},
   "outputs": [],
   "source": [
    "print(insert_many_res.acknowledged)\n",
    "print(insert_many_res.inserted_ids)"
   ]
  },
  {
   "cell_type": "markdown",
   "id": "b8527479",
   "metadata": {},
   "source": [
    "### Error Handling When Inserting"
   ]
  },
  {
   "cell_type": "code",
   "execution_count": null,
   "id": "66619abe",
   "metadata": {},
   "outputs": [],
   "source": [
    "# Produces a DuplicateKeyError\n",
    "products_col.insert_one(pens)"
   ]
  },
  {
   "cell_type": "code",
   "execution_count": null,
   "id": "4e02e226",
   "metadata": {},
   "outputs": [],
   "source": [
    "pens2 = {\"name\": \"Pens\", \"price\": 9.58}"
   ]
  },
  {
   "cell_type": "code",
   "execution_count": null,
   "id": "e732468a",
   "metadata": {},
   "outputs": [],
   "source": [
    "products_col.insert_one(pens2)"
   ]
  },
  {
   "cell_type": "code",
   "execution_count": null,
   "id": "2de4e6e9",
   "metadata": {},
   "outputs": [],
   "source": [
    "# Produces a DuplicateKeyError\n",
    "pens[\"price\"] = 10.00\n",
    "products_col.insert_one(pens)"
   ]
  },
  {
   "cell_type": "code",
   "execution_count": null,
   "id": "4e687ac7",
   "metadata": {},
   "outputs": [],
   "source": [
    "# Produces a BulkWriteError\n",
    "products_col.insert_many([water_bottle, jar])"
   ]
  },
  {
   "cell_type": "code",
   "execution_count": null,
   "id": "83e143ea",
   "metadata": {},
   "outputs": [],
   "source": [
    "try:\n",
    "    products_col.insert_one(pens)\n",
    "except pymongo.errors.DuplicateKeyError:\n",
    "    print(\"Duplicate Entry Detected\")"
   ]
  },
  {
   "cell_type": "code",
   "execution_count": null,
   "id": "8e2718f7",
   "metadata": {},
   "outputs": [],
   "source": [
    "try:\n",
    "    products_col.insert_many([water_bottle, jar])\n",
    "except pymongo.errors.BulkWriteError:\n",
    "    print(\"Bulk Write Error Detected\")"
   ]
  },
  {
   "cell_type": "markdown",
   "id": "47661fe7",
   "metadata": {},
   "source": [
    "### insert_many() - Partial Fail Interaction"
   ]
  },
  {
   "cell_type": "code",
   "execution_count": null,
   "id": "20bd3cbd",
   "metadata": {},
   "outputs": [],
   "source": [
    "mug = {\"name\": \"Mug\", \"price\": 12.99}"
   ]
  },
  {
   "cell_type": "code",
   "execution_count": null,
   "id": "0d9bb37d",
   "metadata": {},
   "outputs": [],
   "source": [
    "try:\n",
    "    products_col.insert_many([mug, jar])\n",
    "except pymongo.errors.BulkWriteError:\n",
    "    print(\"Bulk Write Error Detected\")"
   ]
  }
 ],
 "metadata": {
  "kernelspec": {
   "display_name": "venv",
   "language": "python",
   "name": "python3"
  },
  "language_info": {
   "codemirror_mode": {
    "name": "ipython",
    "version": 3
   },
   "file_extension": ".py",
   "mimetype": "text/x-python",
   "name": "python",
   "nbconvert_exporter": "python",
   "pygments_lexer": "ipython3",
   "version": "3.8.0 (tags/v3.8.0:fa919fd, Oct 14 2019, 19:37:50) [MSC v.1916 64 bit (AMD64)]"
  },
  "vscode": {
   "interpreter": {
    "hash": "78cff88764c03ecc2c268850b32c5ccfa845e8978fa56fe07656ffa78bbb119d"
   }
  }
 },
 "nbformat": 4,
 "nbformat_minor": 5
}
