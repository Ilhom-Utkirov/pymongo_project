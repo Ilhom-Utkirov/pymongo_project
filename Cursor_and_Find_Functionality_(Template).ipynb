{
 "cells": [
  {
   "cell_type": "markdown",
   "id": "e5fbb279",
   "metadata": {},
   "source": [
    "# MongoDB Insert Functionality\n",
    "\n",
    "Go over how to use the various insert functions of the pymongo module. "
   ]
  },
  {
   "cell_type": "markdown",
   "id": "60d041b0",
   "metadata": {},
   "source": [
    "### Import MongoClient instance from pymongo module"
   ]
  },
  {
   "cell_type": "code",
   "execution_count": 5,
   "id": "238478b5",
   "metadata": {},
   "outputs": [],
   "source": [
    "import pymongo\n",
    "from pymongo import MongoClient"
   ]
  },
  {
   "cell_type": "markdown",
   "id": "8cfcc669",
   "metadata": {},
   "source": [
    "### Initalize A Client, Connect To DB, Speicfy Collection"
   ]
  },
  {
   "cell_type": "code",
   "execution_count": 6,
   "id": "06a8d1bd",
   "metadata": {},
   "outputs": [],
   "source": [
    "client = MongoClient('mongodb://localhost:27017/')\n",
    "db = client[\"my_store\"]\n",
    "product_col = db[\"products\"]"
   ]
  },
  {
   "cell_type": "markdown",
   "source": [],
   "metadata": {
    "collapsed": false
   }
  },
  {
   "cell_type": "markdown",
   "id": "f5e0e553",
   "metadata": {},
   "source": [
    "### find_one()"
   ]
  },
  {
   "cell_type": "code",
   "execution_count": 7,
   "id": "6ffba480",
   "metadata": {},
   "outputs": [
    {
     "data": {
      "text/plain": "{'_id': ObjectId('64088ce8af13803ae580032f'), 'name': 'Pens', 'price': 9.5}"
     },
     "execution_count": 7,
     "metadata": {},
     "output_type": "execute_result"
    }
   ],
   "source": [
    "product_col.find_one({\"name\": \"Pens\"})"
   ]
  },
  {
   "cell_type": "code",
   "execution_count": 8,
   "id": "bf11ed1f",
   "metadata": {},
   "outputs": [],
   "source": [
    "find_one_res = product_col.find_one({\"name\": \"Pens\"})"
   ]
  },
  {
   "cell_type": "code",
   "execution_count": 10,
   "outputs": [
    {
     "data": {
      "text/plain": "9.5"
     },
     "execution_count": 10,
     "metadata": {},
     "output_type": "execute_result"
    }
   ],
   "source": [
    "find_one_res[\"price\"]"
   ],
   "metadata": {
    "collapsed": false
   }
  },
  {
   "cell_type": "code",
   "execution_count": 9,
   "id": "5ab841b2",
   "metadata": {},
   "outputs": [
    {
     "ename": "TypeError",
     "evalue": "'dict' object is not callable",
     "output_type": "error",
     "traceback": [
      "\u001B[1;31m---------------------------------------------------------------------------\u001B[0m",
      "\u001B[1;31mTypeError\u001B[0m                                 Traceback (most recent call last)",
      "Cell \u001B[1;32mIn[9], line 1\u001B[0m\n\u001B[1;32m----> 1\u001B[0m \u001B[43mfind_one_res\u001B[49m\u001B[43m(\u001B[49m\u001B[38;5;124;43m\"\u001B[39;49m\u001B[38;5;124;43mprice\u001B[39;49m\u001B[38;5;124;43m\"\u001B[39;49m\u001B[43m)\u001B[49m\n",
      "\u001B[1;31mTypeError\u001B[0m: 'dict' object is not callable"
     ]
    }
   ],
   "source": [
    "find_one_res(\"price\")  #out:'dict' object is not callable"
   ]
  },
  {
   "cell_type": "markdown",
   "id": "18866bfa",
   "metadata": {},
   "source": [
    "### find() and Cursors"
   ]
  },
  {
   "cell_type": "code",
   "execution_count": 13,
   "id": "ed20031b",
   "metadata": {},
   "outputs": [],
   "source": [
    "pen_cursor = product_col.find({\"name\": \"Pens\"})  # find many"
   ]
  },
  {
   "cell_type": "code",
   "execution_count": 14,
   "id": "7b094cab",
   "metadata": {},
   "outputs": [
    {
     "name": "stdout",
     "output_type": "stream",
     "text": [
      "{'_id': ObjectId('64088ce8af13803ae580032f'), 'name': 'Pens', 'price': 9.5}\n",
      "{'_id': ObjectId('64088ce8af13803ae5800330'), 'name': 'Pens', 'price': 9.5}\n"
     ]
    }
   ],
   "source": [
    "for document in pen_cursor:\n",
    "    print(document)"
   ]
  },
  {
   "cell_type": "code",
   "execution_count": 15,
   "id": "eb8232a2",
   "metadata": {},
   "outputs": [
    {
     "data": {
      "text/plain": "False"
     },
     "execution_count": 15,
     "metadata": {},
     "output_type": "execute_result"
    }
   ],
   "source": [
    "pen_cursor.alive  # check if cursor is reached the end"
   ]
  },
  {
   "cell_type": "code",
   "execution_count": 16,
   "id": "1a031993",
   "metadata": {},
   "outputs": [],
   "source": [
    "pen_cursor = product_col.find({\"name\": \"Pens\"})  # find many"
   ]
  },
  {
   "cell_type": "code",
   "execution_count": 17,
   "id": "5f42ffb8",
   "metadata": {},
   "outputs": [
    {
     "data": {
      "text/plain": "True"
     },
     "execution_count": 17,
     "metadata": {},
     "output_type": "execute_result"
    }
   ],
   "source": [
    "pen_cursor.alive  # check cursor alive"
   ]
  },
  {
   "cell_type": "code",
   "execution_count": 20,
   "id": "52100a58",
   "metadata": {},
   "outputs": [
    {
     "ename": "StopIteration",
     "evalue": "",
     "output_type": "error",
     "traceback": [
      "\u001B[1;31m---------------------------------------------------------------------------\u001B[0m",
      "\u001B[1;31mStopIteration\u001B[0m                             Traceback (most recent call last)",
      "Cell \u001B[1;32mIn[20], line 1\u001B[0m\n\u001B[1;32m----> 1\u001B[0m \u001B[43mpen_cursor\u001B[49m\u001B[38;5;241;43m.\u001B[39;49m\u001B[43mnext\u001B[49m\u001B[43m(\u001B[49m\u001B[43m)\u001B[49m\n",
      "File \u001B[1;32mC:\\Mine\\project\\pymongo\\venv\\lib\\site-packages\\pymongo\\cursor.py:1246\u001B[0m, in \u001B[0;36mCursor.next\u001B[1;34m(self)\u001B[0m\n\u001B[0;32m   1244\u001B[0m         \u001B[38;5;28;01mreturn\u001B[39;00m \u001B[38;5;28mself\u001B[39m\u001B[38;5;241m.\u001B[39m__data\u001B[38;5;241m.\u001B[39mpopleft()\n\u001B[0;32m   1245\u001B[0m \u001B[38;5;28;01melse\u001B[39;00m:\n\u001B[1;32m-> 1246\u001B[0m     \u001B[38;5;28;01mraise\u001B[39;00m \u001B[38;5;167;01mStopIteration\u001B[39;00m\n",
      "\u001B[1;31mStopIteration\u001B[0m: "
     ]
    }
   ],
   "source": [
    "pen_cursor.next()  # when ends it shows StopIteration Error"
   ]
  },
  {
   "cell_type": "markdown",
   "id": "963b34c2",
   "metadata": {},
   "source": [
    "### sort()"
   ]
  },
  {
   "cell_type": "code",
   "execution_count": 21,
   "id": "27049bfe",
   "metadata": {},
   "outputs": [
    {
     "name": "stdout",
     "output_type": "stream",
     "text": [
      "{'_id': ObjectId('64088ce8af13803ae580032e'), 'name': 'Notebook', 'price': 4.99}\n",
      "{'_id': ObjectId('64088ce8af13803ae5800332'), 'name': 'Jar', 'price': 4.99}\n",
      "{'_id': ObjectId('64088ce8af13803ae580032f'), 'name': 'Pens', 'price': 9.5}\n",
      "{'_id': ObjectId('64088ce8af13803ae5800330'), 'name': 'Pens', 'price': 9.5}\n",
      "{'_id': ObjectId('64088ce8af13803ae5800331'), 'name': 'Water Bottle', 'price': 14.85}\n",
      "{'_id': ObjectId('64088ce8af13803ae580032c'), 'name': 'Bag', 'price': 23.78}\n",
      "{'_id': ObjectId('64088ce8af13803ae5800333'), 'name': 'mug', 'price': 123}\n",
      "{'_id': ObjectId('64088ce8af13803ae580032d'), 'name': 'iPhone 11', 'price': 800}\n"
     ]
    }
   ],
   "source": [
    "for document in product_col.find({}).sort(\"price\", pymongo.ASCENDING):\n",
    "    print(document)"
   ]
  },
  {
   "cell_type": "code",
   "execution_count": 22,
   "id": "29366fdd",
   "metadata": {},
   "outputs": [
    {
     "name": "stdout",
     "output_type": "stream",
     "text": [
      "{'_id': ObjectId('64088ce8af13803ae580032d'), 'name': 'iPhone 11', 'price': 800}\n",
      "{'_id': ObjectId('64088ce8af13803ae5800333'), 'name': 'mug', 'price': 123}\n",
      "{'_id': ObjectId('64088ce8af13803ae580032c'), 'name': 'Bag', 'price': 23.78}\n",
      "{'_id': ObjectId('64088ce8af13803ae5800331'), 'name': 'Water Bottle', 'price': 14.85}\n",
      "{'_id': ObjectId('64088ce8af13803ae580032f'), 'name': 'Pens', 'price': 9.5}\n",
      "{'_id': ObjectId('64088ce8af13803ae5800330'), 'name': 'Pens', 'price': 9.5}\n",
      "{'_id': ObjectId('64088ce8af13803ae580032e'), 'name': 'Notebook', 'price': 4.99}\n",
      "{'_id': ObjectId('64088ce8af13803ae5800332'), 'name': 'Jar', 'price': 4.99}\n"
     ]
    }
   ],
   "source": [
    "for document in product_col.find({}).sort(\"price\", pymongo.DESCENDING):\n",
    "    print(document)"
   ]
  },
  {
   "cell_type": "code",
   "execution_count": 23,
   "id": "4426d062",
   "metadata": {},
   "outputs": [
    {
     "data": {
      "text/plain": "1"
     },
     "execution_count": 23,
     "metadata": {},
     "output_type": "execute_result"
    }
   ],
   "source": [
    "pymongo.ASCENDING"
   ]
  },
  {
   "cell_type": "code",
   "execution_count": 24,
   "id": "8265f9d5",
   "metadata": {},
   "outputs": [
    {
     "data": {
      "text/plain": "-1"
     },
     "execution_count": 24,
     "metadata": {},
     "output_type": "execute_result"
    }
   ],
   "source": [
    "pymongo.DESCENDING"
   ]
  },
  {
   "cell_type": "code",
   "execution_count": 28,
   "outputs": [
    {
     "name": "stdout",
     "output_type": "stream",
     "text": [
      "<pymongo.cursor.Cursor object at 0x00000191CEB71340>\n"
     ]
    }
   ],
   "source": [
    "product_col.update_one({\"name\": \"Bag\"}, {\"$set\": {\"price\": 9.5}})\n",
    "product_col.find({})"
   ],
   "metadata": {
    "collapsed": false
   }
  },
  {
   "cell_type": "markdown",
   "source": [
    "### First price sorted(DESC) then by name(ASC)"
   ],
   "metadata": {
    "collapsed": false
   }
  },
  {
   "cell_type": "code",
   "execution_count": 30,
   "id": "c4860df5",
   "metadata": {},
   "outputs": [
    {
     "name": "stdout",
     "output_type": "stream",
     "text": [
      "{'_id': ObjectId('64088ce8af13803ae580032d'), 'name': 'iPhone 11', 'price': 800}\n",
      "{'_id': ObjectId('64088ce8af13803ae5800333'), 'name': 'mug', 'price': 123}\n",
      "{'_id': ObjectId('64088ce8af13803ae5800331'), 'name': 'Water Bottle', 'price': 14.85}\n",
      "{'_id': ObjectId('64088ce8af13803ae580032c'), 'name': 'Bag', 'price': 9.5}\n",
      "{'_id': ObjectId('64088ce8af13803ae580032f'), 'name': 'Pens', 'price': 9.5}\n",
      "{'_id': ObjectId('64088ce8af13803ae5800330'), 'name': 'Pens', 'price': 9.5}\n",
      "{'_id': ObjectId('64088ce8af13803ae5800332'), 'name': 'Jar', 'price': 4.99}\n",
      "{'_id': ObjectId('64088ce8af13803ae580032e'), 'name': 'Notebook', 'price': 4.99}\n"
     ]
    }
   ],
   "source": [
    "for document in product_col.find({}).sort(\n",
    "        [(\"price\", pymongo.DESCENDING),\n",
    "         (\"name\", pymongo.ASCENDING)]):\n",
    "    print(document)"
   ]
  },
  {
   "cell_type": "code",
   "execution_count": null,
   "id": "42b05035",
   "metadata": {},
   "outputs": [],
   "source": []
  },
  {
   "cell_type": "markdown",
   "id": "e07efb52",
   "metadata": {},
   "source": [
    "### skip() and limit()\n",
    "skip from the beginning till number"
   ]
  },
  {
   "cell_type": "code",
   "execution_count": 31,
   "id": "711f746f",
   "metadata": {},
   "outputs": [
    {
     "name": "stdout",
     "output_type": "stream",
     "text": [
      "{'_id': ObjectId('64088ce8af13803ae580032c'), 'name': 'Bag', 'price': 9.5}\n",
      "{'_id': ObjectId('64088ce8af13803ae580032d'), 'name': 'iPhone 11', 'price': 800}\n",
      "{'_id': ObjectId('64088ce8af13803ae580032e'), 'name': 'Notebook', 'price': 4.99}\n",
      "{'_id': ObjectId('64088ce8af13803ae580032f'), 'name': 'Pens', 'price': 9.5}\n",
      "{'_id': ObjectId('64088ce8af13803ae5800330'), 'name': 'Pens', 'price': 9.5}\n"
     ]
    }
   ],
   "source": [
    "for document in product_col.find({}).limit(5):\n",
    "    print(document)"
   ]
  },
  {
   "cell_type": "code",
   "execution_count": 32,
   "id": "55774464",
   "metadata": {},
   "outputs": [
    {
     "name": "stdout",
     "output_type": "stream",
     "text": [
      "{'_id': ObjectId('64088ce8af13803ae580032e'), 'name': 'Notebook', 'price': 4.99}\n",
      "{'_id': ObjectId('64088ce8af13803ae580032f'), 'name': 'Pens', 'price': 9.5}\n",
      "{'_id': ObjectId('64088ce8af13803ae5800330'), 'name': 'Pens', 'price': 9.5}\n",
      "{'_id': ObjectId('64088ce8af13803ae5800331'), 'name': 'Water Bottle', 'price': 14.85}\n"
     ]
    }
   ],
   "source": [
    "for document in product_col.find({}).limit(4).skip(2):\n",
    "    print(document)"
   ]
  },
  {
   "cell_type": "code",
   "execution_count": 34,
   "id": "d7a563b6",
   "metadata": {},
   "outputs": [
    {
     "name": "stdout",
     "output_type": "stream",
     "text": [
      "\n",
      " --- Page1 ---\n",
      "{'_id': ObjectId('64088ce8af13803ae580032c'), 'name': 'Bag', 'price': 9.5}\n",
      "{'_id': ObjectId('64088ce8af13803ae580032d'), 'name': 'iPhone 11', 'price': 800}\n",
      "{'_id': ObjectId('64088ce8af13803ae580032e'), 'name': 'Notebook', 'price': 4.99}\n",
      "{'_id': ObjectId('64088ce8af13803ae580032f'), 'name': 'Pens', 'price': 9.5}\n",
      "{'_id': ObjectId('64088ce8af13803ae5800330'), 'name': 'Pens', 'price': 9.5}\n",
      "\n",
      " --- Page2 ---\n",
      "{'_id': ObjectId('64088ce8af13803ae5800331'), 'name': 'Water Bottle', 'price': 14.85}\n",
      "{'_id': ObjectId('64088ce8af13803ae5800332'), 'name': 'Jar', 'price': 4.99}\n",
      "{'_id': ObjectId('64088ce8af13803ae5800333'), 'name': 'mug', 'price': 123}\n"
     ]
    }
   ],
   "source": [
    "page_item_limit = 5\n",
    "\n",
    "for page_num in [1,2]:\n",
    "    print(\"\\n --- Page{} ---\".format(page_num))\n",
    "    for document in product_col.find({}).skip((page_num-1) * page_item_limit).limit(page_item_limit):\n",
    "        print(document)"
   ]
  },
  {
   "cell_type": "markdown",
   "id": "fd76f71a",
   "metadata": {},
   "source": [
    "### cursor.count() vs collection.count_documents()"
   ]
  },
  {
   "cell_type": "code",
   "execution_count": 36,
   "id": "c6eef034",
   "metadata": {},
   "outputs": [],
   "source": [
    "find_filter_query = {\"name\":\"Pens\"}\n",
    "find_cursor = product_col.find(find_filter_query)"
   ]
  },
  {
   "cell_type": "code",
   "execution_count": 37,
   "id": "1a0b5b9c",
   "metadata": {},
   "outputs": [
    {
     "name": "stderr",
     "output_type": "stream",
     "text": [
      "C:\\Users\\Ilhom\\AppData\\Local\\Temp\\ipykernel_14240\\1653444303.py:1: DeprecationWarning: count is deprecated. Use Collection.count_documents instead.\n",
      "  find_cursor.count()\n"
     ]
    },
    {
     "data": {
      "text/plain": "2"
     },
     "execution_count": 37,
     "metadata": {},
     "output_type": "execute_result"
    }
   ],
   "source": [
    "find_cursor.count()"
   ]
  },
  {
   "cell_type": "code",
   "execution_count": 38,
   "id": "78bfb3f2",
   "metadata": {},
   "outputs": [],
   "source": [
    "product_col.count_documents(find_filter_query);"
   ]
  },
  {
   "cell_type": "code",
   "execution_count": 44,
   "id": "a020ee2e",
   "metadata": {},
   "outputs": [],
   "source": [
    "find_cursor_skip = product_col.find(find_filter_query).skip(1)"
   ]
  },
  {
   "cell_type": "code",
   "execution_count": 46,
   "outputs": [
    {
     "name": "stderr",
     "output_type": "stream",
     "text": [
      "C:\\Users\\Ilhom\\AppData\\Local\\Temp\\ipykernel_14240\\2042093865.py:1: DeprecationWarning: count is deprecated. Use Collection.count_documents instead.\n",
      "  find_cursor.count() # it isnot showing 1 but 2\n"
     ]
    },
    {
     "data": {
      "text/plain": "2"
     },
     "execution_count": 46,
     "metadata": {},
     "output_type": "execute_result"
    }
   ],
   "source": [
    "find_cursor.count() # it isnot showing 1 but 2"
   ],
   "metadata": {
    "collapsed": false
   }
  },
  {
   "cell_type": "code",
   "execution_count": 47,
   "id": "911c9c62",
   "metadata": {},
   "outputs": [
    {
     "name": "stderr",
     "output_type": "stream",
     "text": [
      "C:\\Users\\Ilhom\\AppData\\Local\\Temp\\ipykernel_14240\\1069177012.py:1: DeprecationWarning: count is deprecated. Use Collection.count_documents instead.\n",
      "  find_cursor_skip.count(with_limit_and_skip=True) # to solve use with_limit_and_skip = True\n"
     ]
    },
    {
     "data": {
      "text/plain": "1"
     },
     "execution_count": 47,
     "metadata": {},
     "output_type": "execute_result"
    }
   ],
   "source": [
    "find_cursor_skip.count(with_limit_and_skip=True) # to solve use with_limit_and_skip = True"
   ]
  },
  {
   "cell_type": "code",
   "execution_count": null,
   "id": "bd5e9037",
   "metadata": {},
   "outputs": [],
   "source": []
  },
  {
   "cell_type": "markdown",
   "id": "ddc18577",
   "metadata": {},
   "source": [
    "### distinct()"
   ]
  },
  {
   "cell_type": "code",
   "execution_count": 49,
   "id": "b02655a6",
   "metadata": {},
   "outputs": [],
   "source": [
    "product_cursor = product_col.find({})"
   ]
  },
  {
   "cell_type": "code",
   "execution_count": 50,
   "id": "56da82b6",
   "metadata": {},
   "outputs": [
    {
     "data": {
      "text/plain": "['Bag', 'Jar', 'Notebook', 'Pens', 'Water Bottle', 'iPhone 11', 'mug']"
     },
     "execution_count": 50,
     "metadata": {},
     "output_type": "execute_result"
    }
   ],
   "source": [
    "product_cursor.distinct(\"name\")"
   ]
  },
  {
   "cell_type": "code",
   "execution_count": 53,
   "id": "14f98341",
   "metadata": {},
   "outputs": [
    {
     "name": "stdout",
     "output_type": "stream",
     "text": [
      "7 Unique product names vs 8 total entries\n"
     ]
    },
    {
     "name": "stderr",
     "output_type": "stream",
     "text": [
      "C:\\Users\\Ilhom\\AppData\\Local\\Temp\\ipykernel_14240\\1201147007.py:2: DeprecationWarning: count is deprecated. Use estimated_document_count or count_documents instead. Please note that $where must be replaced by $expr, $near must be replaced by $geoWithin with $center, and $nearSphere must be replaced by $geoWithin with $centerSphere\n",
      "  all_counts = product_col.count({})\n"
     ]
    }
   ],
   "source": [
    "distinct_count = len(product_cursor.distinct(\"name\"))\n",
    "all_counts = product_col.count({})\n",
    "\n",
    "print(\"{} Unique product names vs {} total entries\".format(distinct_count, all_counts))"
   ]
  },
  {
   "cell_type": "markdown",
   "id": "3cac701b",
   "metadata": {},
   "source": [
    "### Using projection\n",
    "only entry attribute you reques not whole entry"
   ]
  },
  {
   "cell_type": "code",
   "execution_count": 62,
   "id": "881d37a0",
   "metadata": {},
   "outputs": [],
   "source": [
    "#only price\n",
    "\n",
    "find_projection_cursor = product_col.find({\"name\":\"Pens\"},{\"_id\":0, \"price\":1})"
   ]
  },
  {
   "cell_type": "code",
   "execution_count": 63,
   "id": "cd9cbd54",
   "metadata": {},
   "outputs": [
    {
     "name": "stdout",
     "output_type": "stream",
     "text": [
      "{'price': 9.5}\n",
      "{'price': 9.5}\n"
     ]
    }
   ],
   "source": [
    "for document in find_projection_cursor:\n",
    "    print(document)"
   ]
  },
  {
   "cell_type": "markdown",
   "source": [],
   "metadata": {
    "collapsed": false
   }
  },
  {
   "cell_type": "code",
   "execution_count": 68,
   "outputs": [
    {
     "data": {
      "text/plain": "{'_id': ObjectId('64088ce8af13803ae580032f'), 'name': 'Pens', 'price': 9.5}"
     },
     "execution_count": 68,
     "metadata": {},
     "output_type": "execute_result"
    }
   ],
   "source": [
    "product_col.find_one({\"name\":\"Pens\"})"
   ],
   "metadata": {
    "collapsed": false
   }
  },
  {
   "cell_type": "code",
   "execution_count": null,
   "id": "208e0f55",
   "metadata": {},
   "outputs": [],
   "source": []
  }
 ],
 "metadata": {
  "kernelspec": {
   "display_name": "Python 3 (ipykernel)",
   "language": "python",
   "name": "python3"
  },
  "language_info": {
   "codemirror_mode": {
    "name": "ipython",
    "version": 3
   },
   "file_extension": ".py",
   "mimetype": "text/x-python",
   "name": "python",
   "nbconvert_exporter": "python",
   "pygments_lexer": "ipython3",
   "version": "3.8.11"
  }
 },
 "nbformat": 4,
 "nbformat_minor": 5
}
