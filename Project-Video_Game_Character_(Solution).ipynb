{
 "cells": [
  {
   "cell_type": "markdown",
   "id": "31568889",
   "metadata": {},
   "source": [
    "## Video Game Character Project\n",
    "#### Part I:\n",
    "Apply what you have learned in the previous lectures to insert and find data related to your own video game characters within your MongoDB database."
   ]
  },
  {
   "cell_type": "markdown",
   "id": "244e75e4",
   "metadata": {},
   "source": [
    "#### Import Dependencies"
   ]
  },
  {
   "cell_type": "code",
   "execution_count": 2,
   "id": "0f3901f6",
   "metadata": {},
   "outputs": [],
   "source": [
    "import copy\n",
    "import numpy as np\n",
    "\n",
    "from pymongo import MongoClient"
   ]
  },
  {
   "cell_type": "markdown",
   "id": "14a357db",
   "metadata": {},
   "source": [
    "#### Player and Items Python Classes "
   ]
  },
  {
   "cell_type": "code",
   "execution_count": 3,
   "id": "f153c7a5",
   "metadata": {},
   "outputs": [],
   "source": [
    "class Player:\n",
    "    def __init__(self, name, max_health, max_energy, items=[]):\n",
    "        self.name = name\n",
    "        self.health = max_health \n",
    "        self.max_health = max_health\n",
    "        self.energy = max_energy\n",
    "        self.max_energy = max_energy\n",
    "        self.items = copy.deepcopy(items)\n",
    "        \n",
    "        \n",
    "    def attack(self, player):\n",
    "        energy_cost = 5\n",
    "        \n",
    "        if self.energy >= energy_cost:\n",
    "            attack_strength = np.random.randint(1, 6)\n",
    "            player.health -= attack_strength\n",
    "            self.energy -= energy_cost\n",
    "            print(\"{} attacked {} for {} damage\".format(self.name, player.name, attack_strength))\n",
    "        else:\n",
    "            print(\"{} does not have enough energy to attack {}\".format(self.name, player.name))\n",
    "        \n",
    "        \n",
    "    def heal(self, amount):\n",
    "        self.health += amount\n",
    "        \n",
    "        if self.health > self.max_health:\n",
    "            self.health = self.max_health\n",
    "         \n",
    "        \n",
    "    def stats(self):\n",
    "        return vars(self)\n",
    "        \n",
    "        \n",
    "    def use_item(self, item_name):\n",
    "        try: \n",
    "            item = next(item for item in self.items if item.name == item_name)\n",
    "            item.quantity -= 1\n",
    "\n",
    "            for effect in item.effects:\n",
    "\n",
    "                for method, value in effect.items():\n",
    "                    class_method = getattr(self, method)\n",
    "                    class_method(value)\n",
    "\n",
    "            if item.quantity == 0:\n",
    "                self.items.remove(item)\n",
    "                \n",
    "        except:\n",
    "            print(\"{} does not have any {}s\".format(self.name, item_name))"
   ]
  },
  {
   "cell_type": "code",
   "execution_count": 4,
   "id": "4522ac92",
   "metadata": {},
   "outputs": [],
   "source": [
    "class Item:\n",
    "    def __init__(self, name, quantity, effects=[]):\n",
    "        self.name = name\n",
    "        self.quantity = quantity \n",
    "        self.effects = effects\n",
    "        \n",
    "    #what we see when we try to read from the object in python. like tostring()\n",
    "    def __repr__(self):\n",
    "        return \"Item(name={}, quantity={}, effects={})\".format(self.name, self.quantity, self.effects)"
   ]
  },
  {
   "cell_type": "markdown",
   "id": "85903d15",
   "metadata": {},
   "source": [
    "#### Playground Area\n",
    "Feel free to play around with the Player and Item classes defined above to get a feel for how they work."
   ]
  },
  {
   "cell_type": "code",
   "execution_count": 14,
   "id": "740df30d",
   "metadata": {},
   "outputs": [],
   "source": [
    "# Example usage of Item:\n",
    "potion = Item(\"health_potion\", 2, [{\"heal\": 10}])"
   ]
  },
  {
   "cell_type": "code",
   "execution_count": 15,
   "id": "ad48b18d",
   "metadata": {},
   "outputs": [
    {
     "data": {
      "text/plain": "Item(name=health_potion, quantity=2, effects=[{'heal': 10}])"
     },
     "execution_count": 15,
     "metadata": {},
     "output_type": "execute_result"
    }
   ],
   "source": [
    "potion"
   ]
  },
  {
   "cell_type": "code",
   "execution_count": 16,
   "outputs": [],
   "source": [
    "player1 = Player(\"player1\", 50, 25, [potion])"
   ],
   "metadata": {
    "collapsed": false
   }
  },
  {
   "cell_type": "code",
   "execution_count": 17,
   "outputs": [
    {
     "data": {
      "text/plain": "{'name': 'player1',\n 'health': 50,\n 'max_health': 50,\n 'energy': 25,\n 'max_energy': 25,\n 'items': [Item(name=health_potion, quantity=2, effects=[{'heal': 10}])]}"
     },
     "execution_count": 17,
     "metadata": {},
     "output_type": "execute_result"
    }
   ],
   "source": [
    "player1.stats()"
   ],
   "metadata": {
    "collapsed": false
   }
  },
  {
   "cell_type": "code",
   "execution_count": 18,
   "outputs": [
    {
     "data": {
      "text/plain": "{'name': 'player1',\n 'health': 40,\n 'max_health': 50,\n 'energy': 25,\n 'max_energy': 25,\n 'items': [Item(name=health_potion, quantity=2, effects=[{'heal': 10}])]}"
     },
     "execution_count": 18,
     "metadata": {},
     "output_type": "execute_result"
    }
   ],
   "source": [
    "player1.health = 40\n",
    "player1.stats()"
   ],
   "metadata": {
    "collapsed": false
   }
  },
  {
   "cell_type": "code",
   "execution_count": 19,
   "outputs": [
    {
     "data": {
      "text/plain": "{'name': 'player1',\n 'health': 50,\n 'max_health': 50,\n 'energy': 25,\n 'max_energy': 25,\n 'items': [Item(name=health_potion, quantity=1, effects=[{'heal': 10}])]}"
     },
     "execution_count": 19,
     "metadata": {},
     "output_type": "execute_result"
    }
   ],
   "source": [
    "player1.use_item((\"health_potion\"))\n",
    "player1.stats()"
   ],
   "metadata": {
    "collapsed": false
   }
  },
  {
   "cell_type": "code",
   "execution_count": 20,
   "outputs": [
    {
     "data": {
      "text/plain": "{'name': 'player2',\n 'health': 60,\n 'max_health': 60,\n 'energy': 35,\n 'max_energy': 35,\n 'items': [Item(name=greater_healing_potion, quantity=2, effects=[{'heal': 25}])]}"
     },
     "execution_count": 20,
     "metadata": {},
     "output_type": "execute_result"
    }
   ],
   "source": [
    "player2_items = [Item(\"greater_healing_potion\", 2, [{'heal':25}])]\n",
    "player2 = Player(\"player2\", 60, 35, player2_items)\n",
    "player2.stats()"
   ],
   "metadata": {
    "collapsed": false
   }
  },
  {
   "cell_type": "code",
   "execution_count": 27,
   "outputs": [
    {
     "name": "stdout",
     "output_type": "stream",
     "text": [
      "player1 attacked player2 for 4 damage\n"
     ]
    }
   ],
   "source": [
    "player1.attack(player2)"
   ],
   "metadata": {
    "collapsed": false
   }
  },
  {
   "cell_type": "code",
   "execution_count": 28,
   "outputs": [
    {
     "data": {
      "text/plain": "{'name': 'player2',\n 'health': 45,\n 'max_health': 60,\n 'energy': 35,\n 'max_energy': 35,\n 'items': [Item(name=greater_healing_potion, quantity=2, effects=[{'heal': 25}])]}"
     },
     "execution_count": 28,
     "metadata": {},
     "output_type": "execute_result"
    }
   ],
   "source": [
    "player2.stats()"
   ],
   "metadata": {
    "collapsed": false
   }
  },
  {
   "cell_type": "markdown",
   "id": "bfb4bbd0",
   "metadata": {},
   "source": [
    "#### Project Instructions"
   ]
  },
  {
   "cell_type": "code",
   "execution_count": 32,
   "id": "9665938d",
   "metadata": {},
   "outputs": [],
   "source": [
    "# TODO:\n",
    "# 1) Initalize a MongoDB Client object to connect to your database with\n",
    "client = MongoClient('mongodb://localhost:27017/')\n",
    "db = client['video_game']"
   ]
  },
  {
   "cell_type": "code",
   "execution_count": 33,
   "id": "865f2bd3",
   "metadata": {},
   "outputs": [],
   "source": [
    "# TODO:\n",
    "# 2) Create a function that takes in a Player object and inserts it into the database, \n",
    "#    Extra Challenge: check for duplicate player entries, if so, do not insert again\n",
    "def insert_player(player_obj, check_for_duplicates=True):\n",
    "    if check_for_duplicates:\n",
    "        duplicate_player = db.players.find_one({\"name\": player_obj.name})\n",
    "        if duplicate_player != None:\n",
    "            return duplicate_player[\"_id\"]\n",
    "    #it is reference not a copy!\n",
    "    player_dict = copy.deepcopy(vars(player_obj)) # mongo cannot convert to the dictionary\n",
    "    \n",
    "    items_dict_list = []\n",
    "    for item_obj in player_dict[\"items\"]:\n",
    "        item_dict = vars(item_obj)\n",
    "        items_dict_list.append(item_dict)\n",
    "        \n",
    "    player_dict[\"items\"] = items_dict_list\n",
    "    \n",
    "    return db.players.insert_one(player_dict).inserted_id\n",
    "\n",
    "\n",
    "# 3) Create a function that is able to find a Player in the databse by searching for their name\n",
    "def find_player_by_name(name):\n",
    "    return db.players.find_one({\"name\": name})\n",
    "\n",
    "\n",
    "# 4) Create a function that loads the data from the above function and returns a Player object configured with that data\n",
    "def convert_player_dict_to_obj(player_dict):\n",
    "    p = player_dict\n",
    "\n",
    "    items_list = []\n",
    "    for item in p[\"items\"]: \n",
    "        item_obj = Item(item[\"name\"], item[\"quantity\"], item[\"effects\"])\n",
    "        items_list.append(item_obj)\n",
    "        \n",
    "    player_obj = Player(p[\"name\"], p[\"max_health\"], p[\"max_energy\"], items_list)\n",
    "    player_obj.health = p[\"health\"]\n",
    "    player_obj.energy = p[\"energy\"]\n",
    "    \n",
    "    return player_obj\n",
    "\n",
    "def get_player_obj_by_name(name):\n",
    "    player_dict = find_player_by_name(name)\n",
    "    return convert_player_dict_to_obj(player_dict)"
   ]
  },
  {
   "cell_type": "code",
   "execution_count": 34,
   "id": "a41e4156",
   "metadata": {},
   "outputs": [],
   "source": [
    "# TODO:\n",
    "# 5) Create at least 2 players, optionally give them items\n",
    "player1_items = [Item(\"health_potion\", 2, [{\"heal\": 10}])]\n",
    "player1 = Player(\"Maximus\", 50, 25, player1_items)\n",
    "\n",
    "player2_items = [Item(\"greater_health_potion\", 2, [{\"heal\": 25}])]\n",
    "player2 = Player(\"Sophie\", 60, 35, player2_items)\n",
    "\n",
    "\n",
    "# 6) Insert Players into MongoDB\n",
    "player1_id = insert_player(player1)\n",
    "player2_id = insert_player(player2)\n",
    "\n",
    "\n",
    "# 7) Load the player data from MongoDB into new player variables\n",
    "player1_load = get_player_obj_by_name(\"Maximus\")\n",
    "player2_load = get_player_obj_by_name(\"Sophie\")"
   ]
  },
  {
   "cell_type": "markdown",
   "id": "499fab97",
   "metadata": {},
   "source": [
    "#### Verify Results:"
   ]
  },
  {
   "cell_type": "code",
   "execution_count": 35,
   "id": "f24e1208",
   "metadata": {},
   "outputs": [
    {
     "data": {
      "text/plain": "ObjectId('6408a79f1a2b2fbbf5031ae4')"
     },
     "execution_count": 35,
     "metadata": {},
     "output_type": "execute_result"
    }
   ],
   "source": [
    "player1_id"
   ]
  },
  {
   "cell_type": "code",
   "execution_count": 36,
   "id": "2580292b",
   "metadata": {},
   "outputs": [
    {
     "data": {
      "text/plain": "{'name': 'Maximus',\n 'health': 50,\n 'max_health': 50,\n 'energy': 25,\n 'max_energy': 25,\n 'items': [Item(name=health_potion, quantity=2, effects=[{'heal': 10}])]}"
     },
     "execution_count": 36,
     "metadata": {},
     "output_type": "execute_result"
    }
   ],
   "source": [
    "player1_load.stats()"
   ]
  },
  {
   "cell_type": "code",
   "execution_count": 37,
   "id": "ad9d0146",
   "metadata": {},
   "outputs": [
    {
     "data": {
      "text/plain": "ObjectId('6408a79f1a2b2fbbf5031ae5')"
     },
     "execution_count": 37,
     "metadata": {},
     "output_type": "execute_result"
    }
   ],
   "source": [
    "player2_id"
   ]
  },
  {
   "cell_type": "code",
   "execution_count": 38,
   "id": "9ebc99dc",
   "metadata": {},
   "outputs": [
    {
     "data": {
      "text/plain": "{'name': 'Sophie',\n 'health': 60,\n 'max_health': 60,\n 'energy': 35,\n 'max_energy': 35,\n 'items': [Item(name=greater_health_potion, quantity=2, effects=[{'heal': 25}])]}"
     },
     "execution_count": 38,
     "metadata": {},
     "output_type": "execute_result"
    }
   ],
   "source": [
    "player2_load.stats()"
   ]
  },
  {
   "cell_type": "code",
   "execution_count": null,
   "id": "7a782d65",
   "metadata": {},
   "outputs": [],
   "source": []
  }
 ],
 "metadata": {
  "kernelspec": {
   "display_name": "Python 3 (ipykernel)",
   "language": "python",
   "name": "python3"
  },
  "language_info": {
   "codemirror_mode": {
    "name": "ipython",
    "version": 3
   },
   "file_extension": ".py",
   "mimetype": "text/x-python",
   "name": "python",
   "nbconvert_exporter": "python",
   "pygments_lexer": "ipython3",
   "version": "3.8.11"
  }
 },
 "nbformat": 4,
 "nbformat_minor": 5
}
