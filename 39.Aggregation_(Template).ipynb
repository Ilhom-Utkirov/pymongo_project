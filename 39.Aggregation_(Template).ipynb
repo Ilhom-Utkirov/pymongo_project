{
 "cells": [
  {
   "cell_type": "markdown",
   "id": "34176bb0",
   "metadata": {},
   "source": [
    "# MongoDB Aggregation Pipeline In Python\n",
    "\n",
    "Learn about the various stages and configurations you can create to configure an Aggregation Pipeline\n",
    "\n",
    "Stages: [match](#match), [project](#project), [unset](#unset), [limit](#limit), [skip](#skip), [sort](#sort), [count](#count), [sortByCount](#sortByCount), [unwind](#unwind), [group](#group), [addFields](#addFields), [sample](#sample), [lookup](#lookup), [unionWith](#unionWith), [out](#out), [merge](#merge)\n",
    "\n",
    "Operators: [size](#size-(operator)), [in](#in-(operator)), [arrayElemAt](#arrayElemAt-(operator)), [first](#first-(operator)), [count](#count-(accumulator-operator)), [sum](#sum-(accumulator-operator)), [first, last](#first,-last-(accumulator-operators)), [push](#push-(accumulator-operator)), [addToSet](#addToSet-(accumulator-operator)), [regexMatch](#regexMatch-(operator)), [cond](#cond-(operator)), [Date](#Date-Operators), [expr](#expr-(operator)), [ifNull](#ifNull-(operator)), [type](#type-(operator)), [switch](#switch-(operator))"
   ]
  },
  {
   "cell_type": "code",
   "execution_count": 11,
   "id": "7ec67890",
   "metadata": {},
   "outputs": [],
   "source": [
    "from pymongo import MongoClient"
   ]
  },
  {
   "cell_type": "code",
   "execution_count": 12,
   "outputs": [],
   "source": [
    "mongodb_uri = \"mongodb://localhost:27017/\"\n",
    "db_name = \"aggregation_test\""
   ],
   "metadata": {
    "collapsed": false
   }
  },
  {
   "cell_type": "code",
   "execution_count": 13,
   "id": "adeb6e53",
   "metadata": {},
   "outputs": [],
   "source": [
    "client = MongoClient(mongodb_uri)\n",
    "db = client[db_name]"
   ]
  },
  {
   "cell_type": "markdown",
   "id": "6b961009",
   "metadata": {},
   "source": [
    "### Helper Function"
   ]
  },
  {
   "cell_type": "code",
   "execution_count": 23,
   "id": "4fb93ffb",
   "metadata": {},
   "outputs": [],
   "source": [
    "def print_cursor(cursor):\n",
    "    for document in cursor:\n",
    "        print(document, end=\"\\n\\n\")"
   ]
  },
  {
   "cell_type": "markdown",
   "id": "79b6911e",
   "metadata": {},
   "source": [
    "### Inserting Some Sample Data"
   ]
  },
  {
   "cell_type": "code",
   "execution_count": 15,
   "id": "69cea02e",
   "metadata": {},
   "outputs": [
    {
     "name": "stdout",
     "output_type": "stream",
     "text": [
      "Entries already exist in the aggregation_test database in the users, products, or orders collection. Insert commands aborted.\n"
     ]
    }
   ],
   "source": [
    "#it double checks if there is data or not -- learn it\n",
    "import aggregatehelper.insert_aggregation_sample_data as iasd\n",
    "\n",
    "iasd.insert_data(mongodb_uri, db_name)"
   ]
  },
  {
   "cell_type": "markdown",
   "id": "3a0dd88d",
   "metadata": {},
   "source": [
    "### match"
   ]
  },
  {
   "cell_type": "code",
   "execution_count": 21,
   "id": "d7493e3f",
   "metadata": {},
   "outputs": [],
   "source": [
    "match_cursor = db.products.aggregate([\n",
    "    {\"$match\": {\"name\": \"Pens\"}}\n",
    "])"
   ]
  },
  {
   "cell_type": "code",
   "execution_count": 22,
   "id": "5ea2ca69",
   "metadata": {},
   "outputs": [
    {
     "name": "stdout",
     "output_type": "stream",
     "text": [
      "{'_id': ObjectId('640b4ff43c493ec19556619b'), 'name': 'Pens', 'seller_id': ObjectId('640b4ff43c493ec195566194'), 'tags': ['Office', 'School']}\n",
      "\n",
      "{'_id': ObjectId('640c70acd17bdad3315514fc'), 'name': 'Pens', 'seller_id': ObjectId('640b4ff43c493ec195566194'), 'tags': ['Office', 'School']}\n",
      "\n"
     ]
    }
   ],
   "source": [
    "print_cursor(match_cursor)"
   ]
  },
  {
   "cell_type": "code",
   "execution_count": 49,
   "id": "75dc6b7a",
   "metadata": {},
   "outputs": [],
   "source": [
    "# returns commandCursor - like cursor Object\n",
    "match_cursor = db.products.aggregate([\n",
    "    {\"$match\": {\"$or\": [\n",
    "        {\"tags\": \"Beauty\"},\n",
    "        {\"tags\": \"Home\"}]}}\n",
    "])"
   ]
  },
  {
   "cell_type": "code",
   "execution_count": 50,
   "id": "7b1f153f",
   "metadata": {},
   "outputs": [
    {
     "name": "stdout",
     "output_type": "stream",
     "text": [
      "{'_id': ObjectId('640b4ff43c493ec195566199'), 'name': 'Mug', 'seller_id': ObjectId('640b4ff43c493ec195566193'), 'tags': ['Home', 'Kitchen']}\n",
      "\n",
      "{'_id': ObjectId('640b4ff43c493ec19556619a'), 'name': 'Moisturizer', 'seller_id': ObjectId('640b4ff43c493ec195566193'), 'tags': ['Beauty']}\n",
      "\n",
      "{'_id': ObjectId('640b4ff43c493ec19556619c'), 'name': 'Face Cleanser', 'seller_id': ObjectId('640b4ff43c493ec195566193'), 'tags': ['Beauty']}\n",
      "\n",
      "{'_id': ObjectId('640b4ff43c493ec19556619d'), 'name': 'Concealer Makeup', 'seller_id': ObjectId('640b4ff43c493ec195566196'), 'tags': ['Beauty']}\n",
      "\n",
      "{'_id': ObjectId('640b4ff43c493ec19556619e'), 'name': 'Eyeliner', 'seller_id': ObjectId('640b4ff43c493ec195566197'), 'tags': ['Beauty']}\n",
      "\n"
     ]
    }
   ],
   "source": [
    "print_cursor(match_cursor)"
   ]
  },
  {
   "cell_type": "markdown",
   "id": "ac3ca0e0",
   "metadata": {},
   "source": [
    "### project"
   ]
  },
  {
   "cell_type": "code",
   "execution_count": 51,
   "id": "87a954d8",
   "metadata": {},
   "outputs": [],
   "source": [
    "#change returned column name as you wish with $ infront of the column name you want to rename\n",
    "project_cursor = db.products.aggregate([\n",
    "    {\"$project\": {\"_id\": 0, \"name_as_product_name\": \"$name\", \"tags\": 1}}])"
   ]
  },
  {
   "cell_type": "code",
   "execution_count": 52,
   "id": "b623aea9",
   "metadata": {},
   "outputs": [
    {
     "name": "stdout",
     "output_type": "stream",
     "text": [
      "{'tags': ['Home', 'Kitchen'], 'name_as_product_name': 'Mug'}\n",
      "\n",
      "{'tags': ['Beauty'], 'name_as_product_name': 'Moisturizer'}\n",
      "\n",
      "{'tags': ['Office', 'School'], 'name_as_product_name': 'Pens'}\n",
      "\n",
      "{'tags': ['Beauty'], 'name_as_product_name': 'Face Cleanser'}\n",
      "\n",
      "{'tags': ['Beauty'], 'name_as_product_name': 'Concealer Makeup'}\n",
      "\n",
      "{'tags': ['Beauty'], 'name_as_product_name': 'Eyeliner'}\n",
      "\n",
      "{'tags': ['Office', 'School'], 'name_as_product_name': 'Pens'}\n",
      "\n"
     ]
    }
   ],
   "source": [
    "print_cursor(project_cursor)"
   ]
  },
  {
   "cell_type": "code",
   "execution_count": 53,
   "id": "2a748591",
   "metadata": {},
   "outputs": [
    {
     "name": "stdout",
     "output_type": "stream",
     "text": [
      "{'tags': ['Office', 'School'], 'name_as_product_name': 'Pens'}\n",
      "\n",
      "{'tags': ['Office', 'School'], 'name_as_product_name': 'Pens'}\n",
      "\n"
     ]
    }
   ],
   "source": [
    "match_project_cursor = db.products.aggregate([\n",
    "    # copied from above match statement\n",
    "    {\"$match\": {\"$or\": [{\"name\": \"Pens\"}]}},\n",
    "    {\"$project\": {\"_id\": 0, \"name_as_product_name\": \"$name\", \"tags\": 1}}])\n",
    "\n",
    "print_cursor(match_project_cursor)"
   ]
  },
  {
   "cell_type": "code",
   "execution_count": 54,
   "id": "13939e4a",
   "metadata": {},
   "outputs": [],
   "source": [
    "# no results\n",
    "match_project_cursor = db.products.aggregate([\n",
    "    {\"$match\": {\"$or\": [{\"name\": \"Pens\"}]}},\n",
    "    {\"$project\": {\"_id\": 0, \"name_as_product_name\": \"$name\", \"tags\": 1}},\n",
    "    {\"$match\": {\"name\": \"Pens\"}}\n",
    "])\n",
    "\n",
    "print_cursor(match_project_cursor)"
   ]
  },
  {
   "cell_type": "code",
   "execution_count": 55,
   "outputs": [
    {
     "name": "stdout",
     "output_type": "stream",
     "text": [
      "{'tags': ['Office', 'School'], 'product_name': 'Pens'}\n",
      "\n",
      "{'tags': ['Office', 'School'], 'product_name': 'Pens'}\n",
      "\n"
     ]
    }
   ],
   "source": [
    "# but if you change 2nd match to product name then it sees\n",
    "match_project_cursor = db.products.aggregate([\n",
    "    {\"$match\": {\"$or\": [{\"name\": \"Pens\"}]}},\n",
    "    {\"$project\": {\"_id\": 0, \"product_name\": \"$name\", \"tags\": 1}},\n",
    "    {\"$match\": {\"product_name\": \"Pens\"}}\n",
    "])\n",
    "\n",
    "print_cursor(match_project_cursor)"
   ],
   "metadata": {
    "collapsed": false
   }
  },
  {
   "cell_type": "markdown",
   "id": "04882350",
   "metadata": {},
   "source": [
    "### unset"
   ]
  },
  {
   "cell_type": "code",
   "execution_count": 56,
   "id": "c32b98a0",
   "metadata": {},
   "outputs": [
    {
     "name": "stdout",
     "output_type": "stream",
     "text": [
      "{'name': 'Mug', 'tags': ['Home', 'Kitchen']}\n",
      "\n",
      "{'name': 'Moisturizer', 'tags': ['Beauty']}\n",
      "\n",
      "{'name': 'Pens', 'tags': ['Office', 'School']}\n",
      "\n",
      "{'name': 'Face Cleanser', 'tags': ['Beauty']}\n",
      "\n",
      "{'name': 'Concealer Makeup', 'tags': ['Beauty']}\n",
      "\n",
      "{'name': 'Eyeliner', 'tags': ['Beauty']}\n",
      "\n",
      "{'name': 'Pens', 'tags': ['Office', 'School']}\n",
      "\n"
     ]
    }
   ],
   "source": [
    "# projection like , but  not passing attributes you want to keep but pass attributes you want to discard\n",
    "unset_project_cursor = db.products.aggregate([\n",
    "    {\"$unset\": [\"_id\", \"seller_id\"]}\n",
    "])\n",
    "print_cursor(unset_project_cursor)"
   ]
  },
  {
   "cell_type": "code",
   "execution_count": 57,
   "id": "c12df64a",
   "metadata": {},
   "outputs": [
    {
     "name": "stdout",
     "output_type": "stream",
     "text": [
      "{'name': 'Pens', 'tags': ['Office', 'School']}\n",
      "\n",
      "{'name': 'Pens', 'tags': ['Office', 'School']}\n",
      "\n"
     ]
    }
   ],
   "source": [
    "unset_project_cursor = db.products.aggregate([\n",
    "    {\"$match\": {\"$or\": [{\"name\": \"Pens\"}]}},\n",
    "    {\"$unset\": [\"_id\", \"seller_id\"]}\n",
    "])\n",
    "print_cursor(unset_project_cursor)"
   ]
  },
  {
   "cell_type": "code",
   "execution_count": 57,
   "id": "b7874852",
   "metadata": {},
   "outputs": [],
   "source": []
  },
  {
   "cell_type": "code",
   "execution_count": 57,
   "id": "cf04aeff",
   "metadata": {},
   "outputs": [],
   "source": []
  },
  {
   "cell_type": "markdown",
   "id": "8e7c4a5b",
   "metadata": {},
   "source": [
    "### limit"
   ]
  },
  {
   "cell_type": "code",
   "execution_count": 58,
   "id": "44b55947",
   "metadata": {},
   "outputs": [
    {
     "name": "stdout",
     "output_type": "stream",
     "text": [
      "{'_id': ObjectId('640b4ff43c493ec195566199'), 'name': 'Mug', 'seller_id': ObjectId('640b4ff43c493ec195566193'), 'tags': ['Home', 'Kitchen']}\n",
      "\n",
      "{'_id': ObjectId('640b4ff43c493ec19556619a'), 'name': 'Moisturizer', 'seller_id': ObjectId('640b4ff43c493ec195566193'), 'tags': ['Beauty']}\n",
      "\n",
      "{'_id': ObjectId('640b4ff43c493ec19556619b'), 'name': 'Pens', 'seller_id': ObjectId('640b4ff43c493ec195566194'), 'tags': ['Office', 'School']}\n",
      "\n"
     ]
    }
   ],
   "source": [
    "limit_project_cursor = db.products.aggregate([\n",
    "    {\"$limit\": 3}\n",
    "])\n",
    "print_cursor(limit_project_cursor)"
   ]
  },
  {
   "cell_type": "code",
   "execution_count": 58,
   "id": "23906526",
   "metadata": {},
   "outputs": [],
   "source": []
  },
  {
   "cell_type": "markdown",
   "id": "faf134d5",
   "metadata": {},
   "source": [
    "### skip"
   ]
  },
  {
   "cell_type": "code",
   "execution_count": 59,
   "id": "ca13feb0",
   "metadata": {},
   "outputs": [
    {
     "name": "stdout",
     "output_type": "stream",
     "text": [
      "{'_id': ObjectId('640b4ff43c493ec19556619b'), 'name': 'Pens', 'seller_id': ObjectId('640b4ff43c493ec195566194'), 'tags': ['Office', 'School']}\n",
      "\n",
      "{'_id': ObjectId('640b4ff43c493ec19556619c'), 'name': 'Face Cleanser', 'seller_id': ObjectId('640b4ff43c493ec195566193'), 'tags': ['Beauty']}\n",
      "\n",
      "{'_id': ObjectId('640b4ff43c493ec19556619d'), 'name': 'Concealer Makeup', 'seller_id': ObjectId('640b4ff43c493ec195566196'), 'tags': ['Beauty']}\n",
      "\n",
      "{'_id': ObjectId('640b4ff43c493ec19556619e'), 'name': 'Eyeliner', 'seller_id': ObjectId('640b4ff43c493ec195566197'), 'tags': ['Beauty']}\n",
      "\n",
      "{'_id': ObjectId('640c70acd17bdad3315514fc'), 'name': 'Pens', 'seller_id': ObjectId('640b4ff43c493ec195566194'), 'tags': ['Office', 'School']}\n",
      "\n"
     ]
    }
   ],
   "source": [
    "skip_project_cursor = db.products.aggregate([\n",
    "    {\"$skip\": 2}\n",
    "])\n",
    "print_cursor(skip_project_cursor)"
   ]
  },
  {
   "cell_type": "code",
   "execution_count": 60,
   "id": "ab0b19d8",
   "metadata": {},
   "outputs": [
    {
     "name": "stdout",
     "output_type": "stream",
     "text": [
      "{'_id': ObjectId('640b4ff43c493ec19556619b'), 'name': 'Pens', 'seller_id': ObjectId('640b4ff43c493ec195566194'), 'tags': ['Office', 'School']}\n",
      "\n",
      "{'_id': ObjectId('640b4ff43c493ec19556619c'), 'name': 'Face Cleanser', 'seller_id': ObjectId('640b4ff43c493ec195566193'), 'tags': ['Beauty']}\n",
      "\n",
      "{'_id': ObjectId('640b4ff43c493ec19556619d'), 'name': 'Concealer Makeup', 'seller_id': ObjectId('640b4ff43c493ec195566196'), 'tags': ['Beauty']}\n",
      "\n"
     ]
    }
   ],
   "source": [
    "skip_and_limit_project_cursor = db.products.aggregate([\n",
    "    {\"$skip\": 2},\n",
    "    {\"$limit\": 3}\n",
    "])\n",
    "print_cursor(skip_and_limit_project_cursor)"
   ]
  },
  {
   "cell_type": "code",
   "execution_count": 61,
   "id": "56973212",
   "metadata": {},
   "outputs": [
    {
     "name": "stdout",
     "output_type": "stream",
     "text": [
      "{'_id': ObjectId('640b4ff43c493ec19556619b'), 'name': 'Pens', 'seller_id': ObjectId('640b4ff43c493ec195566194'), 'tags': ['Office', 'School']}\n",
      "\n"
     ]
    }
   ],
   "source": [
    "# order matters\n",
    "limit_and_skip_project_cursor = db.products.aggregate([\n",
    "    {\"$limit\": 3},\n",
    "    {\"$skip\": 2}\n",
    "])\n",
    "print_cursor(limit_and_skip_project_cursor)"
   ]
  },
  {
   "cell_type": "code",
   "execution_count": 61,
   "id": "e2d2ffdf",
   "metadata": {},
   "outputs": [],
   "source": []
  },
  {
   "cell_type": "markdown",
   "id": "cf3cfd7e",
   "metadata": {},
   "source": [
    "### sort"
   ]
  },
  {
   "cell_type": "code",
   "execution_count": 62,
   "id": "66868355",
   "metadata": {},
   "outputs": [],
   "source": [
    "# Ascending order alphabetical order\n",
    "sort_cursor = db.products.aggregate([\n",
    "    {\"$sort\": {\"name\": 1}}\n",
    "])\n",
    "print_cursor(sort_cursor)"
   ]
  },
  {
   "cell_type": "code",
   "execution_count": 62,
   "id": "b3673dc2",
   "metadata": {},
   "outputs": [],
   "source": []
  },
  {
   "cell_type": "markdown",
   "id": "cc603160",
   "metadata": {},
   "source": [
    "### count"
   ]
  },
  {
   "cell_type": "code",
   "execution_count": 63,
   "id": "e614928f",
   "metadata": {},
   "outputs": [],
   "source": [
    "count_cursor = db.products.aggregate([\n",
    "    {\"$match\": {\"tags\": \"Beauty\"}},\n",
    "    {\"$count\": \"beauty_products_count\"}\n",
    "])\n",
    "print_cursor(count_cursor)"
   ]
  },
  {
   "cell_type": "code",
   "execution_count": 63,
   "id": "f808edf7",
   "metadata": {},
   "outputs": [],
   "source": []
  },
  {
   "cell_type": "markdown",
   "id": "bb13a6bf",
   "metadata": {},
   "source": [
    "### sortByCount"
   ]
  },
  {
   "cell_type": "code",
   "execution_count": 64,
   "id": "33fb709e",
   "metadata": {},
   "outputs": [],
   "source": [
    "# sorted from highest to the lowest\n",
    "\n",
    "sortByCount_cursor = db.products.aggregate([\n",
    "    {\"$sortByCount\": \"$tags\"}\n",
    "])\n",
    "print_cursor(sortByCount_cursor)"
   ]
  },
  {
   "cell_type": "code",
   "execution_count": 64,
   "id": "831dbce5",
   "metadata": {},
   "outputs": [],
   "source": []
  },
  {
   "cell_type": "markdown",
   "id": "513b1fda",
   "metadata": {},
   "source": [
    "### size (operator)"
   ]
  },
  {
   "cell_type": "code",
   "execution_count": 65,
   "id": "bf97ff8f",
   "metadata": {},
   "outputs": [],
   "source": [
    "project_cursor = db.products.aggregate([\n",
    "    {\"$project\": {\"_id\": 0, \"name\": 1, \"num_tags\": {\"$size\": \"$tags\"}, \"tags\": \"$tags\"}}\n",
    "])\n",
    "print_cursor(project_cursor)"
   ]
  },
  {
   "cell_type": "code",
   "execution_count": 66,
   "id": "ec03239c",
   "metadata": {},
   "outputs": [],
   "source": [
    "# this is same but only difference is order of printing!\n",
    "# here tags :1 is showing tags firs, but if you need num_tags first displayed then use \"tags\": \"$tags\"\n",
    "project_cursor = db.products.aggregate([\n",
    "    {\"$project\": {\"_id\": 0, \"name\": 1, \"num_tags\": {\"$size\": \"$tags\"}, \"tags\": 1}}\n",
    "])\n",
    "print_cursor(project_cursor)"
   ]
  },
  {
   "cell_type": "code",
   "execution_count": 66,
   "outputs": [],
   "source": [],
   "metadata": {
    "collapsed": false
   }
  },
  {
   "cell_type": "markdown",
   "id": "68aace6a",
   "metadata": {},
   "source": [
    "### in (operator)"
   ]
  },
  {
   "cell_type": "code",
   "execution_count": 67,
   "id": "c72ad1c9",
   "metadata": {},
   "outputs": [],
   "source": [
    "#which products have bauty tag within the array\n",
    "project_cursor = db.products.aggregate([\n",
    "    {\"$project\": {\"_id\": 0, \"name\": 1, \"is_beauty_product\": {\"$in\": [\"Beauty\", \"$tags\"]}, \"tags\": \"$tags\"}}\n",
    "])\n",
    "print_cursor(project_cursor)"
   ]
  },
  {
   "cell_type": "code",
   "execution_count": 67,
   "id": "65541099",
   "metadata": {},
   "outputs": [],
   "source": []
  },
  {
   "cell_type": "markdown",
   "id": "263b898e",
   "metadata": {},
   "source": [
    "### arrayElemAt (operator)"
   ]
  },
  {
   "cell_type": "code",
   "execution_count": 68,
   "id": "b922b021",
   "metadata": {},
   "outputs": [],
   "source": [
    "# grab value at particular index\n",
    "project_cursor = db.products.aggregate([\n",
    "    {\"$project\": {\"_id\": 0, \"name\": 1, \"first_tag\": {\"$arrayElemAt\": [\"$tags\", 0]}, \"tags\": \"$tags\"}}\n",
    "])\n",
    "print_cursor(project_cursor)"
   ]
  },
  {
   "cell_type": "code",
   "execution_count": 69,
   "id": "4ecd4cbc",
   "metadata": {},
   "outputs": [],
   "source": [
    "# if length of array is smaller than index value you specify that entries that have an array with length will not have attributes is not showed at all\n",
    "# check second entryhas not first_tag attribute\n",
    "project_cursor = db.products.aggregate([\n",
    "    {\"$project\": {\"_id\": 0, \"name\": 1, \"first_tag\": {\"$arrayElemAt\": [\"$tags\", 1]}, \"tags\": \"$tags\"}}\n",
    "])\n",
    "print_cursor(project_cursor)"
   ]
  },
  {
   "cell_type": "markdown",
   "id": "5e043b40",
   "metadata": {},
   "source": [
    "### first (operator)"
   ]
  },
  {
   "cell_type": "code",
   "execution_count": 70,
   "id": "e191bf85",
   "metadata": {},
   "outputs": [],
   "source": [
    "\n",
    "project_cursor = db.products.aggregate([\n",
    "    {\"$project\": {\"_id\": 0, \"name\": 1, \"first_tag\": {\"$first\": \"$tags\"}, \"tags\": \"$tags\"}}\n",
    "])\n",
    "print_cursor(project_cursor)"
   ]
  },
  {
   "cell_type": "code",
   "execution_count": 71,
   "id": "73782dc1",
   "metadata": {},
   "outputs": [],
   "source": [
    "project_cursor = db.products.aggregate([\n",
    "    {\"$project\": {\"_id\": 0, \"name\": 1, \"first_tag\": {\"$last\": \"$tags\"}, \"tags\": \"$tags\"}}\n",
    "])\n",
    "print_cursor(project_cursor)"
   ]
  },
  {
   "cell_type": "markdown",
   "id": "30e68ea2",
   "metadata": {},
   "source": [
    "### unwind"
   ]
  },
  {
   "cell_type": "code",
   "execution_count": 91,
   "id": "f37aef64",
   "metadata": {},
   "outputs": [],
   "source": [
    "# takes entry  that has array of values and\n",
    "# create separate entry with each individual array element\n",
    "# that has all other attributes in the document\n",
    "\n",
    "# tags is list so it creates independent row for each element of the list\n",
    "#like flatten\n",
    "\n",
    "unwind_cursor = db.products.aggregate([\n",
    "    {\"$unwind\": \"$tags\"},\n",
    "    {\"$unset\": [\"_id\", \"seller_id\"]}\n",
    "])\n",
    "print_cursor(unwind_cursor)"
   ]
  },
  {
   "cell_type": "code",
   "execution_count": 73,
   "id": "20b9532b",
   "metadata": {},
   "outputs": [],
   "source": [
    "unwind_cursor = db.orders.aggregate([\n",
    "    {\"$unwind\": \"$items\"},\n",
    "    {\"$unset\": \"_id\"}\n",
    "])\n",
    "print_cursor(unwind_cursor)"
   ]
  },
  {
   "cell_type": "code",
   "execution_count": 74,
   "id": "cfee9b2c",
   "metadata": {},
   "outputs": [],
   "source": [
    "#use includeArrayIndex for the index of the array use \"table_index\" to identify index of the array\n",
    "\n",
    "unwind_cursor = db.products.aggregate([\n",
    "    {\"$match\": {\"tags\": {\"$size\":2}} }, # if size of tags_array >2 then show\n",
    "    {\"$unwind\": {\"path\" : \"$tags\", \"includeArrayIndex\":\"tag_index\"}}, #create elements for each of the\n",
    "    {\"$unset\":[ \"_id\", \"seller_id\"] }\n",
    "])\n",
    "print_cursor(unwind_cursor)"
   ]
  },
  {
   "cell_type": "markdown",
   "id": "ec99a04c",
   "metadata": {},
   "source": [
    "### group"
   ]
  },
  {
   "cell_type": "code",
   "execution_count": 98,
   "id": "edf6c924",
   "metadata": {},
   "outputs": [],
   "source": [
    "#cluter together all distinct entries\n",
    "groups_cursor = db.products.aggregate([\n",
    "    {\"$group\": {\"_id\": \"$tags\"}}\n",
    "])\n",
    "print_cursor(groups_cursor)"
   ]
  },
  {
   "cell_type": "code",
   "execution_count": 101,
   "id": "385e48e6",
   "metadata": {},
   "outputs": [],
   "source": [
    "groups_cursor = db.products.aggregate([\n",
    "    {\"$unwind\":{\"path\":\"$tags\", \"includeArrayIndex\":\"tag_index\"}},\n",
    "    {\"$group\": {\"_id\": \"$tags\"}}\n",
    "])\n",
    "print_cursor(groups_cursor)"
   ]
  },
  {
   "cell_type": "code",
   "execution_count": 77,
   "id": "3d87ee6c",
   "metadata": {},
   "outputs": [],
   "source": [
    "groups_cursor = db.products.aggregate([\n",
    "    {\"$unwind\":\"$tags\"},\n",
    "    {\"$group\": {\"_id\": \"$tags\"}}\n",
    "])\n",
    "print_cursor(groups_cursor)"
   ]
  },
  {
   "cell_type": "code",
   "execution_count": 77,
   "id": "d7920d0a",
   "metadata": {},
   "outputs": [],
   "source": []
  },
  {
   "cell_type": "markdown",
   "id": "a279c576",
   "metadata": {},
   "source": [
    "### count (accumulator operator)"
   ]
  },
  {
   "cell_type": "code",
   "execution_count": 78,
   "id": "5b87d6a7",
   "metadata": {},
   "outputs": [],
   "source": [
    "#count operator to count how many entries with each set\n",
    "groups_cursor = db.products.aggregate([\n",
    "    {\"$group\": {\"_id\": \"$tags\", \"num_entries\": {\"$count\":{}}}}\n",
    "])\n",
    "print_cursor(groups_cursor)"
   ]
  },
  {
   "cell_type": "code",
   "execution_count": 78,
   "id": "ecaa3279",
   "metadata": {},
   "outputs": [],
   "source": []
  },
  {
   "cell_type": "markdown",
   "id": "3bcb34b4",
   "metadata": {},
   "source": [
    "### sum (accumulator operator)"
   ]
  },
  {
   "cell_type": "code",
   "execution_count": 79,
   "id": "9e9b9428",
   "metadata": {},
   "outputs": [],
   "source": [
    "groups_cursor = db.orders.aggregate([\n",
    "    {\"$unwind\":\"$items\"},\n",
    "    # {\"$group\": {\"_id\": \"$items.product_id\", \"total_quantity\": {\"$sum\": \"$items.quantity\" }}}\n",
    "])\n",
    "print_cursor(groups_cursor)"
   ]
  },
  {
   "cell_type": "code",
   "execution_count": 80,
   "outputs": [],
   "source": [
    "groups_cursor = db.orders.aggregate([\n",
    "    {\"$unwind\":\"$items\"},\n",
    "    {\"$group\": {\"_id\": \"$items.product_id\", \"total_quantity\": {\"$sum\": \"$items.quantity\" }}}\n",
    "])\n",
    "print_cursor(groups_cursor)"
   ],
   "metadata": {
    "collapsed": false
   }
  },
  {
   "cell_type": "code",
   "execution_count": 80,
   "id": "483e0fa9",
   "metadata": {},
   "outputs": [],
   "source": []
  },
  {
   "cell_type": "markdown",
   "id": "00e61049",
   "metadata": {},
   "source": [
    "### first, last (accumulator operators)"
   ]
  },
  {
   "cell_type": "code",
   "execution_count": 81,
   "id": "eb92e8a1",
   "metadata": {},
   "outputs": [],
   "source": [
    "groups_cursor = db.products.aggregate([\n",
    "    {\"$group\": {\"_id\": \"$tags\", \"num_entries\": {\"$count\":{} }, \"first\": {\"$first\": \"$name\"},\"last\": {\"$last\":\"$name\"}}}\n",
    "])\n",
    "print_cursor(groups_cursor)"
   ]
  },
  {
   "cell_type": "code",
   "execution_count": 81,
   "id": "96daac5e",
   "metadata": {},
   "outputs": [],
   "source": []
  },
  {
   "cell_type": "markdown",
   "id": "5995ad84",
   "metadata": {},
   "source": [
    "### push (accumulator operator)"
   ]
  },
  {
   "cell_type": "code",
   "execution_count": 82,
   "id": "96d2b785",
   "metadata": {},
   "outputs": [],
   "source": [
    "# push == append on listin python\n",
    "#append name for each entry\n",
    "groups_cursor = db.products.aggregate([\n",
    "    {\"$group\": {\"_id\": \"$tags\", \"products\":{\"$push\":\"$name\"}}}\n",
    "])\n",
    "print_cursor(groups_cursor)"
   ]
  },
  {
   "cell_type": "code",
   "execution_count": 82,
   "id": "30ac5920",
   "metadata": {
    "scrolled": true
   },
   "outputs": [],
   "source": []
  },
  {
   "cell_type": "markdown",
   "id": "3ed8a264",
   "metadata": {},
   "source": [
    "### addToSet (accumulator operator)"
   ]
  },
  {
   "cell_type": "code",
   "execution_count": 83,
   "id": "266f042d",
   "metadata": {},
   "outputs": [],
   "source": [
    "groups_cursor = db.products.aggregate([\n",
    "    {\"$group\": {\"_id\": \"$tags\", \"products\":{\"$addToSet\":\"$name\"}}}\n",
    "])\n",
    "print_cursor(groups_cursor)"
   ]
  },
  {
   "cell_type": "code",
   "execution_count": 84,
   "id": "7178b7bb",
   "metadata": {},
   "outputs": [],
   "source": [
    "groups_cursor = db.products.aggregate([\n",
    "    {\"$group\": {\"_id\": \"$tags\", \"products\":{\"$addToSet\":{\"name\": \"$name\", \"seller_id\": \"$seller_id\" } }}}\n",
    "])\n",
    "print_cursor(groups_cursor)"
   ]
  },
  {
   "cell_type": "code",
   "execution_count": 84,
   "id": "0056f6c5",
   "metadata": {},
   "outputs": [],
   "source": []
  },
  {
   "cell_type": "code",
   "execution_count": 84,
   "id": "887b606d",
   "metadata": {
    "scrolled": true
   },
   "outputs": [],
   "source": []
  },
  {
   "cell_type": "markdown",
   "id": "df3d0e92",
   "metadata": {},
   "source": [
    "### $$ROOT (system variable)"
   ]
  },
  {
   "cell_type": "code",
   "execution_count": 85,
   "id": "7a1ffb52",
   "metadata": {},
   "outputs": [],
   "source": [
    "#goes up\n",
    "groups_cursor = db.products.aggregate([\n",
    "    {\"$group\": {\"_id\": \"$tags\", \"products\":{\"$addToSet\": \"$$ROOT\"} }}\n",
    "])\n",
    "print_cursor(groups_cursor)"
   ]
  },
  {
   "cell_type": "code",
   "execution_count": 85,
   "id": "f264acd9",
   "metadata": {},
   "outputs": [],
   "source": []
  },
  {
   "cell_type": "markdown",
   "id": "daff72dd",
   "metadata": {},
   "source": [
    "### addFields"
   ]
  },
  {
   "cell_type": "code",
   "execution_count": 27,
   "id": "5561e4d6",
   "metadata": {},
   "outputs": [
    {
     "name": "stdout",
     "output_type": "stream",
     "text": [
      "{'_id': ObjectId('640b4ff43c493ec19556619b'), 'name': 'Pens', 'seller_id': ObjectId('640b4ff43c493ec195566194'), 'tags': ['Office', 'School'], 'my_new_field': 'hi there', 'num_tags': 2}\n",
      "\n",
      "{'_id': ObjectId('640c70acd17bdad3315514fc'), 'name': 'Pens', 'seller_id': ObjectId('640b4ff43c493ec195566194'), 'tags': ['Office', 'School'], 'my_new_field': 'hi there', 'num_tags': 2}\n",
      "\n"
     ]
    }
   ],
   "source": [
    "add_fields_cursor = db.products.aggregate([\n",
    "    {\"$match\": {\"name\": \"Pens\"}},\n",
    "    {\"$addFields\": {\"my_new_field\" : \"hi there\", \"num_tags\": {\"$size\": \"$tags\"}}}\n",
    "])\n",
    "print_cursor(add_fields_cursor)"
   ]
  },
  {
   "cell_type": "code",
   "execution_count": 85,
   "id": "2ac712f7",
   "metadata": {},
   "outputs": [],
   "source": []
  },
  {
   "cell_type": "markdown",
   "id": "400e3fb1",
   "metadata": {},
   "source": [
    "### sample"
   ]
  },
  {
   "cell_type": "code",
   "execution_count": 42,
   "id": "84e27037",
   "metadata": {},
   "outputs": [
    {
     "name": "stdout",
     "output_type": "stream",
     "text": [
      "{'name': 'Mug', 'tags': ['Home', 'Kitchen']}\n",
      "\n",
      "{'name': 'Pens', 'tags': ['Office', 'School']}\n",
      "\n",
      "{'name': 'Eyeliner', 'tags': ['Beauty']}\n",
      "\n"
     ]
    }
   ],
   "source": [
    "#allows to specify random sample amount of your entries to put through the pipeline\n",
    "sample_cursor = db.products.aggregate([\n",
    "    {\"$sample\": {\"size\":3}},\n",
    "    {\"$unset\": [\"_id\", \"seller_id\"]}\n",
    "])\n",
    "\n",
    "print_cursor(sample_cursor)"
   ]
  },
  {
   "cell_type": "code",
   "execution_count": 85,
   "id": "cfa54a18",
   "metadata": {},
   "outputs": [],
   "source": []
  },
  {
   "cell_type": "markdown",
   "id": "d262c1bd",
   "metadata": {},
   "source": [
    "### lookup"
   ]
  },
  {
   "cell_type": "code",
   "execution_count": 44,
   "id": "3450bbd7",
   "metadata": {},
   "outputs": [
    {
     "name": "stdout",
     "output_type": "stream",
     "text": [
      "{'_id': ObjectId('640b4ff43c493ec195566199'), 'name': 'Mug', 'seller_id': ObjectId('640b4ff43c493ec195566193'), 'tags': ['Home', 'Kitchen'], 'sellers': [{'_id': ObjectId('640b4ff43c493ec195566193'), 'name': 'Sarah'}]}\n",
      "\n",
      "{'_id': ObjectId('640b4ff43c493ec19556619a'), 'name': 'Moisturizer', 'seller_id': ObjectId('640b4ff43c493ec195566193'), 'tags': ['Beauty'], 'sellers': [{'_id': ObjectId('640b4ff43c493ec195566193'), 'name': 'Sarah'}]}\n",
      "\n",
      "{'_id': ObjectId('640b4ff43c493ec19556619b'), 'name': 'Pens', 'seller_id': ObjectId('640b4ff43c493ec195566194'), 'tags': ['Office', 'School'], 'sellers': [{'_id': ObjectId('640b4ff43c493ec195566194'), 'name': 'Bob'}]}\n",
      "\n",
      "{'_id': ObjectId('640b4ff43c493ec19556619c'), 'name': 'Face Cleanser', 'seller_id': ObjectId('640b4ff43c493ec195566193'), 'tags': ['Beauty'], 'sellers': [{'_id': ObjectId('640b4ff43c493ec195566193'), 'name': 'Sarah'}]}\n",
      "\n",
      "{'_id': ObjectId('640b4ff43c493ec19556619d'), 'name': 'Concealer Makeup', 'seller_id': ObjectId('640b4ff43c493ec195566196'), 'tags': ['Beauty'], 'sellers': [{'_id': ObjectId('640b4ff43c493ec195566196'), 'name': 'Lisa'}]}\n",
      "\n",
      "{'_id': ObjectId('640b4ff43c493ec19556619e'), 'name': 'Eyeliner', 'seller_id': ObjectId('640b4ff43c493ec195566197'), 'tags': ['Beauty'], 'sellers': [{'_id': ObjectId('640b4ff43c493ec195566197'), 'name': 'Jessica'}]}\n",
      "\n",
      "{'_id': ObjectId('640c70acd17bdad3315514fc'), 'name': 'Pens', 'seller_id': ObjectId('640b4ff43c493ec195566194'), 'tags': ['Office', 'School'], 'sellers': [{'_id': ObjectId('640b4ff43c493ec195566194'), 'name': 'Bob'}]}\n",
      "\n"
     ]
    }
   ],
   "source": [
    "# Join + From\n",
    "# joining entries between db\n",
    "lookup_cursor = db.products.aggregate([\n",
    "    {\"$lookup\": {\n",
    "        \"from\" : \"users\",\n",
    "        \"localField\" : \"seller_id\", # base table that is gathering other tables to himself, king\n",
    "        \"foreignField\" : \"_id\",  #from table, barons, knights come to join\n",
    "        \"as\": \"sellers\"\n",
    "    }}\n",
    "\n",
    "])\n",
    "print_cursor(lookup_cursor)"
   ]
  },
  {
   "cell_type": "code",
   "execution_count": 51,
   "id": "ea3e519a",
   "metadata": {},
   "outputs": [
    {
     "name": "stdout",
     "output_type": "stream",
     "text": [
      "{'product_name': 'Mug', 'seller_name': 'Sarah'}\n",
      "\n",
      "{'product_name': 'Moisturizer', 'seller_name': 'Sarah'}\n",
      "\n",
      "{'product_name': 'Pens', 'seller_name': 'Bob'}\n",
      "\n",
      "{'product_name': 'Face Cleanser', 'seller_name': 'Sarah'}\n",
      "\n",
      "{'product_name': 'Concealer Makeup', 'seller_name': 'Lisa'}\n",
      "\n",
      "{'product_name': 'Eyeliner', 'seller_name': 'Jessica'}\n",
      "\n",
      "{'product_name': 'Pens', 'seller_name': 'Bob'}\n",
      "\n"
     ]
    }
   ],
   "source": [
    "#product name, seller name one\n",
    "lookup_cursor = db.products.aggregate([\n",
    "    {\"$lookup\": {\n",
    "        \"from\" : \"users\",\n",
    "        \"localField\" : \"seller_id\", # base table that is gathering other tables to himself, king\n",
    "        \"foreignField\" : \"_id\",  #from table, barons, knights come to join\n",
    "        \"as\": \"sellers\"\n",
    "    }},\n",
    "    {\"$project\" : {\"_id\":0, \"product_name\": \"$name\", \"seller_name\": {\"$first\":\"$sellers.name\"}}}\n",
    "])\n",
    "print_cursor(lookup_cursor)"
   ]
  },
  {
   "cell_type": "code",
   "execution_count": 61,
   "id": "16b18ef3",
   "metadata": {},
   "outputs": [
    {
     "name": "stdout",
     "output_type": "stream",
     "text": [
      "{'user': 'Sarah', 'product': ['Mug', 'Moisturizer', 'Face Cleanser']}\n",
      "\n",
      "{'user': 'Bob', 'product': ['Pens', 'Pens']}\n",
      "\n",
      "{'user': 'Jose', 'product': []}\n",
      "\n",
      "{'user': 'Lisa', 'product': ['Concealer Makeup']}\n",
      "\n",
      "{'user': 'Jessica', 'product': ['Eyeliner']}\n",
      "\n",
      "{'user': 'Tina', 'product': []}\n",
      "\n"
     ]
    }
   ],
   "source": [
    "# all names of product of particular user cells\n",
    "\n",
    "lookup_pr = db.users.aggregate([\n",
    "    {\n",
    "        \"$lookup\": {\n",
    "            \"from\": \"products\",\n",
    "            \"localField\": \"_id\",\n",
    "            \"foreignField\":\"seller_id\",\n",
    "            \"as\": \"products\"\n",
    "        }\n",
    "    },\n",
    "    {\"$project\": {\"_id\":0, \"user\":\"$name\", \"product\":\"$products.name\"}}\n",
    "])\n",
    "\n",
    "print_cursor(lookup_pr)"
   ]
  },
  {
   "cell_type": "code",
   "execution_count": 63,
   "id": "041ee45b",
   "metadata": {},
   "outputs": [
    {
     "name": "stdout",
     "output_type": "stream",
     "text": [
      "{'seller_name': 'Sarah', 'product': ['Mug', 'Moisturizer', 'Face Cleanser']}\n",
      "\n",
      "{'seller_name': 'Bob', 'product': ['Pens', 'Pens']}\n",
      "\n",
      "{'seller_name': 'Lisa', 'product': ['Concealer Makeup']}\n",
      "\n",
      "{'seller_name': 'Jessica', 'product': ['Eyeliner']}\n",
      "\n"
     ]
    }
   ],
   "source": [
    "# all names of product of particular user cells , display users selling at least one product\n",
    "\n",
    "lookup_pr = db.users.aggregate([\n",
    "    {\n",
    "        \"$lookup\": {\n",
    "            \"from\": \"products\",\n",
    "            \"localField\": \"_id\",\n",
    "            \"foreignField\":\"seller_id\",\n",
    "            \"as\": \"products\"\n",
    "        }\n",
    "    },\n",
    "    #-----------------------------------------------------------------\n",
    "    # this field is added to count at \"least one product\" part\n",
    "    #count number of product that match user id\n",
    "    {\"$addFields\": {\"num_products\":{\"$size\":\"$products\"}}},\n",
    "    #include results that has one entry\n",
    "    {\"$match\": {\"num_products\": {\"$gte\":1}}},\n",
    "    #-----------------------------------------------------------------\n",
    "    {\"$project\": {\"_id\":0, \"seller_name\":\"$name\", \"product\":\"$products.name\"}}\n",
    "])\n",
    "\n",
    "print_cursor(lookup_pr)"
   ]
  },
  {
   "cell_type": "code",
   "execution_count": 67,
   "id": "aa44995c",
   "metadata": {},
   "outputs": [
    {
     "name": "stdout",
     "output_type": "stream",
     "text": [
      "{'seller_name': 'Lisa', 'products': ['Concealer Makeup']}\n",
      "\n",
      "{'seller_name': 'Bob', 'products': ['Pens', 'Pens']}\n",
      "\n",
      "{'seller_name': 'Sarah', 'products': ['Mug', 'Moisturizer', 'Face Cleanser']}\n",
      "\n",
      "{'seller_name': 'Jessica', 'products': ['Eyeliner']}\n",
      "\n"
     ]
    }
   ],
   "source": [
    "lookup_pr = db.products.aggregate([\n",
    "    #id and corresponding product names\n",
    "    {\"$group\": { \"_id\": \"$seller_id\", \"product_names\": {\"$push\":\"$name\"}}},\n",
    "    # translate id to seller names by lookup\n",
    "    {\n",
    "        \"$lookup\": {\n",
    "            \"from\": \"users\",\n",
    "            \"localField\": \"_id\",\n",
    "            \"foreignField\":\"_id\",\n",
    "            \"as\": \"sellers\"\n",
    "        }\n",
    "    },\n",
    "    {\"$project\":{\"_id\":0, \"seller_name\": {\"$first\":\"$sellers.name\"}, \"products\":\"$product_names\"}},\n",
    "])\n",
    "\n",
    "print_cursor(lookup_pr)"
   ]
  },
  {
   "cell_type": "code",
   "execution_count": 85,
   "id": "2f45fc7c",
   "metadata": {},
   "outputs": [],
   "source": []
  },
  {
   "cell_type": "code",
   "execution_count": 85,
   "id": "dd60f470",
   "metadata": {},
   "outputs": [],
   "source": []
  },
  {
   "cell_type": "code",
   "execution_count": 85,
   "id": "6b1cd0c8",
   "metadata": {},
   "outputs": [],
   "source": []
  },
  {
   "cell_type": "markdown",
   "id": "31b43027",
   "metadata": {},
   "source": [
    "### unionWith"
   ]
  },
  {
   "cell_type": "code",
   "execution_count": 68,
   "id": "9e9a8772",
   "metadata": {},
   "outputs": [
    {
     "name": "stdout",
     "output_type": "stream",
     "text": [
      "{'_id': ObjectId('640b4ff43c493ec195566199'), 'name': 'Mug', 'seller_id': ObjectId('640b4ff43c493ec195566193'), 'tags': ['Home', 'Kitchen']}\n",
      "\n",
      "{'_id': ObjectId('640b4ff43c493ec19556619a'), 'name': 'Moisturizer', 'seller_id': ObjectId('640b4ff43c493ec195566193'), 'tags': ['Beauty']}\n",
      "\n",
      "{'_id': ObjectId('640b4ff43c493ec19556619b'), 'name': 'Pens', 'seller_id': ObjectId('640b4ff43c493ec195566194'), 'tags': ['Office', 'School']}\n",
      "\n",
      "{'_id': ObjectId('640b4ff43c493ec19556619c'), 'name': 'Face Cleanser', 'seller_id': ObjectId('640b4ff43c493ec195566193'), 'tags': ['Beauty']}\n",
      "\n",
      "{'_id': ObjectId('640b4ff43c493ec19556619d'), 'name': 'Concealer Makeup', 'seller_id': ObjectId('640b4ff43c493ec195566196'), 'tags': ['Beauty']}\n",
      "\n",
      "{'_id': ObjectId('640b4ff43c493ec19556619e'), 'name': 'Eyeliner', 'seller_id': ObjectId('640b4ff43c493ec195566197'), 'tags': ['Beauty']}\n",
      "\n",
      "{'_id': ObjectId('640c70acd17bdad3315514fc'), 'name': 'Pens', 'seller_id': ObjectId('640b4ff43c493ec195566194'), 'tags': ['Office', 'School']}\n",
      "\n",
      "{'_id': ObjectId('640b4ff43c493ec195566193'), 'name': 'Sarah'}\n",
      "\n",
      "{'_id': ObjectId('640b4ff43c493ec195566194'), 'name': 'Bob'}\n",
      "\n",
      "{'_id': ObjectId('640b4ff43c493ec195566195'), 'name': 'Jose'}\n",
      "\n",
      "{'_id': ObjectId('640b4ff43c493ec195566196'), 'name': 'Lisa'}\n",
      "\n",
      "{'_id': ObjectId('640b4ff43c493ec195566197'), 'name': 'Jessica'}\n",
      "\n",
      "{'_id': ObjectId('640b4ff43c493ec195566198'), 'name': 'Tina'}\n",
      "\n"
     ]
    }
   ],
   "source": [
    "# append that collection to the data pipeline\n",
    "union_with_cursor = db.products.aggregate([\n",
    "    {\"$unionWith\": \"users\"}\n",
    "])\n",
    "\n",
    "print_cursor(union_with_cursor)"
   ]
  },
  {
   "cell_type": "code",
   "execution_count": 85,
   "id": "4ffd765e",
   "metadata": {},
   "outputs": [],
   "source": []
  },
  {
   "cell_type": "markdown",
   "id": "080332c9",
   "metadata": {},
   "source": [
    "### regexMatch (operator)"
   ]
  },
  {
   "cell_type": "code",
   "execution_count": 70,
   "id": "73504e55",
   "metadata": {},
   "outputs": [],
   "source": [
    "#search for particular product or seller name\n",
    "user_search = \"is\"\n"
   ]
  },
  {
   "cell_type": "code",
   "execution_count": 73,
   "id": "54524bfa",
   "metadata": {},
   "outputs": [
    {
     "name": "stdout",
     "output_type": "stream",
     "text": [
      "{'_id': ObjectId('640b4ff43c493ec19556619a'), 'name': 'Moisturizer', 'seller_id': ObjectId('640b4ff43c493ec195566193'), 'tags': ['Beauty']}\n",
      "\n",
      "{'_id': ObjectId('640b4ff43c493ec195566196'), 'name': 'Lisa'}\n",
      "\n"
     ]
    }
   ],
   "source": [
    "#returns true if finds in matched field\n",
    "union_with_cursor = db.products.aggregate([\n",
    "    {\"$unionWith\": \"users\"},\n",
    "    {\"$addFields\": {\"matched_result1\": {\"$regexMatch\": {\"input\": \"$name\", \"regex\": user_search}}}},\n",
    "    {\"$match\": {\"matched_result1\": True}},\n",
    "    {\"$unset\": \"matched_result1\"}\n",
    "])\n",
    "\n",
    "print_cursor(union_with_cursor)"
   ]
  },
  {
   "cell_type": "code",
   "execution_count": 75,
   "id": "933be756",
   "metadata": {},
   "outputs": [
    {
     "name": "stdout",
     "output_type": "stream",
     "text": [
      "{'_id': ObjectId('640b4ff43c493ec19556619a'), 'name': 'Moisturizer', 'seller_id': ObjectId('640b4ff43c493ec195566193'), 'tags': ['Beauty']}\n",
      "\n",
      "{'_id': ObjectId('640b4ff43c493ec195566196'), 'name': 'Lisa'}\n",
      "\n"
     ]
    }
   ],
   "source": [
    "#case sensitive us lower letters\n",
    "user_search = \"IS\"\n",
    "union_with_cursor = db.products.aggregate([\n",
    "    {\"$unionWith\": \"users\"},\n",
    "    {\"$addFields\": {\"matched_result1\": {\"$regexMatch\": {\"input\": \"$name\", \"regex\": user_search, \"options\":\"i\"}}}},\n",
    "    {\"$match\": {\"matched_result1\": True}},\n",
    "    {\"$unset\": \"matched_result1\"}\n",
    "])\n",
    "\n",
    "print_cursor(union_with_cursor)"
   ]
  },
  {
   "cell_type": "markdown",
   "id": "3a51051f",
   "metadata": {},
   "source": [
    "### out\n",
    "*Note: You can potentially overwrite all your data in a collection with this stage, use with caution*"
   ]
  },
  {
   "cell_type": "code",
   "execution_count": 85,
   "id": "f9e82365",
   "metadata": {},
   "outputs": [],
   "source": []
  },
  {
   "cell_type": "code",
   "execution_count": 85,
   "id": "6eba3d51",
   "metadata": {},
   "outputs": [],
   "source": []
  },
  {
   "cell_type": "markdown",
   "id": "fa438464",
   "metadata": {},
   "source": [
    "### merge\n",
    "*Note: You can potentially overwrite data within a collection with this stage, use with caution*"
   ]
  },
  {
   "cell_type": "code",
   "execution_count": 85,
   "id": "0e8ba155",
   "metadata": {},
   "outputs": [],
   "source": []
  },
  {
   "cell_type": "code",
   "execution_count": 85,
   "id": "7fa5f383",
   "metadata": {},
   "outputs": [],
   "source": []
  },
  {
   "cell_type": "markdown",
   "id": "f2cbcdc9",
   "metadata": {},
   "source": [
    "### cond (operator)"
   ]
  },
  {
   "cell_type": "code",
   "execution_count": 85,
   "id": "7bf94c0a",
   "metadata": {},
   "outputs": [],
   "source": []
  },
  {
   "cell_type": "code",
   "execution_count": 85,
   "id": "b30ffd4f",
   "metadata": {},
   "outputs": [],
   "source": []
  },
  {
   "cell_type": "code",
   "execution_count": 85,
   "id": "e85540c7",
   "metadata": {},
   "outputs": [],
   "source": []
  },
  {
   "cell_type": "code",
   "execution_count": 85,
   "id": "6d0b7fd4",
   "metadata": {},
   "outputs": [],
   "source": []
  },
  {
   "cell_type": "markdown",
   "id": "3f50f1d1",
   "metadata": {},
   "source": [
    "### $$NOW (system variable)"
   ]
  },
  {
   "cell_type": "code",
   "execution_count": 85,
   "id": "e1503df4",
   "metadata": {},
   "outputs": [],
   "source": []
  },
  {
   "cell_type": "code",
   "execution_count": 85,
   "id": "bd4fd757",
   "metadata": {},
   "outputs": [],
   "source": []
  },
  {
   "cell_type": "markdown",
   "id": "a4513e17",
   "metadata": {},
   "source": [
    "### Date Operators"
   ]
  },
  {
   "cell_type": "code",
   "execution_count": 85,
   "id": "feaa7da2",
   "metadata": {},
   "outputs": [],
   "source": []
  },
  {
   "cell_type": "code",
   "execution_count": 85,
   "id": "38fd8728",
   "metadata": {},
   "outputs": [],
   "source": []
  },
  {
   "cell_type": "code",
   "execution_count": 85,
   "id": "7030d6a9",
   "metadata": {},
   "outputs": [],
   "source": []
  },
  {
   "cell_type": "code",
   "execution_count": 85,
   "id": "87c06393",
   "metadata": {},
   "outputs": [],
   "source": []
  },
  {
   "cell_type": "code",
   "execution_count": 85,
   "id": "a2339adf",
   "metadata": {},
   "outputs": [],
   "source": []
  },
  {
   "cell_type": "code",
   "execution_count": 85,
   "id": "708938c8",
   "metadata": {},
   "outputs": [],
   "source": []
  },
  {
   "cell_type": "code",
   "execution_count": 85,
   "id": "f3945b91",
   "metadata": {},
   "outputs": [],
   "source": []
  },
  {
   "cell_type": "code",
   "execution_count": 85,
   "id": "6a31039d",
   "metadata": {},
   "outputs": [],
   "source": []
  },
  {
   "cell_type": "markdown",
   "id": "531bc8cf",
   "metadata": {},
   "source": [
    "### expr (operator)"
   ]
  },
  {
   "cell_type": "code",
   "execution_count": 85,
   "id": "66a80fd7",
   "metadata": {},
   "outputs": [],
   "source": []
  },
  {
   "cell_type": "code",
   "execution_count": 85,
   "id": "1cb2d077",
   "metadata": {},
   "outputs": [],
   "source": []
  },
  {
   "cell_type": "code",
   "execution_count": 85,
   "id": "abb386e4",
   "metadata": {},
   "outputs": [],
   "source": []
  },
  {
   "cell_type": "code",
   "execution_count": 85,
   "id": "2a114bfb",
   "metadata": {},
   "outputs": [],
   "source": []
  },
  {
   "cell_type": "markdown",
   "id": "f46023d4",
   "metadata": {},
   "source": [
    "### ifNull (operator)"
   ]
  },
  {
   "cell_type": "code",
   "execution_count": 85,
   "id": "ea89b41e",
   "metadata": {},
   "outputs": [],
   "source": []
  },
  {
   "cell_type": "code",
   "execution_count": 85,
   "id": "0e72e154",
   "metadata": {},
   "outputs": [],
   "source": []
  },
  {
   "cell_type": "markdown",
   "id": "a0d8b6f5",
   "metadata": {},
   "source": [
    "### type (operator)"
   ]
  },
  {
   "cell_type": "code",
   "execution_count": 85,
   "id": "95ba1775",
   "metadata": {},
   "outputs": [],
   "source": []
  },
  {
   "cell_type": "code",
   "execution_count": 85,
   "id": "4fa81cf2",
   "metadata": {},
   "outputs": [],
   "source": []
  },
  {
   "cell_type": "markdown",
   "id": "c2dd1e66",
   "metadata": {},
   "source": [
    "### switch (operator)"
   ]
  },
  {
   "cell_type": "code",
   "execution_count": 85,
   "id": "07698a22",
   "metadata": {},
   "outputs": [],
   "source": []
  },
  {
   "cell_type": "code",
   "execution_count": 85,
   "id": "3e703220",
   "metadata": {},
   "outputs": [],
   "source": []
  },
  {
   "cell_type": "code",
   "execution_count": 85,
   "id": "36be23fc",
   "metadata": {},
   "outputs": [],
   "source": []
  },
  {
   "cell_type": "code",
   "execution_count": 85,
   "id": "0c4c36da",
   "metadata": {},
   "outputs": [],
   "source": []
  },
  {
   "cell_type": "code",
   "execution_count": 85,
   "id": "87ea9da8",
   "metadata": {},
   "outputs": [],
   "source": []
  }
 ],
 "metadata": {
  "kernelspec": {
   "display_name": "Python 3 (ipykernel)",
   "language": "python",
   "name": "python3"
  },
  "language_info": {
   "codemirror_mode": {
    "name": "ipython",
    "version": 3
   },
   "file_extension": ".py",
   "mimetype": "text/x-python",
   "name": "python",
   "nbconvert_exporter": "python",
   "pygments_lexer": "ipython3",
   "version": "3.8.11"
  }
 },
 "nbformat": 4,
 "nbformat_minor": 5
}
