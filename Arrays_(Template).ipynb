{
 "cells": [
  {
   "cell_type": "markdown",
   "id": "82b79211",
   "metadata": {},
   "source": [
    "# Working With Arrays In MongoDB\n",
    "\n",
    "Go over some features which allow you to interact with the Array data in your entries"
   ]
  },
  {
   "cell_type": "code",
   "execution_count": 1,
   "id": "51e8b0ee",
   "metadata": {},
   "outputs": [],
   "source": [
    "from pymongo import MongoClient"
   ]
  },
  {
   "cell_type": "markdown",
   "source": [],
   "metadata": {
    "collapsed": false
   }
  },
  {
   "cell_type": "markdown",
   "id": "59d6f5d1",
   "metadata": {},
   "source": [
    "### Initalize A Client, Connect To DB"
   ]
  },
  {
   "cell_type": "code",
   "execution_count": 2,
   "id": "b6fb6675",
   "metadata": {},
   "outputs": [],
   "source": [
    "client = MongoClient(\"mongodb://localhost:27017/\" )\n",
    "db = client[\"my_store\"]"
   ]
  },
  {
   "cell_type": "markdown",
   "id": "3b7ff9be",
   "metadata": {},
   "source": [
    "### Print Entries From Cursor"
   ]
  },
  {
   "cell_type": "code",
   "execution_count": 8,
   "id": "fb611b3b",
   "metadata": {},
   "outputs": [],
   "source": [
    "def print_cursor(cursor_var):\n",
    "    for document in cursor_var:\n",
    "        print(document)\n",
    "        print()"
   ]
  },
  {
   "cell_type": "markdown",
   "id": "c854287d",
   "metadata": {},
   "source": [
    "### Insert New Entries"
   ]
  },
  {
   "cell_type": "code",
   "execution_count": 42,
   "id": "998d2d20",
   "metadata": {},
   "outputs": [
    {
     "data": {
      "text/plain": "<pymongo.results.InsertManyResult at 0x145a160fa40>"
     },
     "execution_count": 42,
     "metadata": {},
     "output_type": "execute_result"
    }
   ],
   "source": [
    "db.items.insert_many([\n",
    "    {\"name\": \"Bag\", \"departments\": [\"School\"], \"versions\": [\n",
    "        {\"color\": \"Black\", \"size\": \"small\", \"qty\": 5, \"price\": 17.79},\n",
    "        {\"color\": \"Red\", \"size\": \"small\", \"qty\": 3, \"price\": 18.23},\n",
    "        {\"color\": \"Green\", \"size\": \"small\", \"qty\": 5, \"price\": 20.03},\n",
    "        {\"color\": \"Black\", \"size\": \"large\", \"qty\": 1, \"price\": 41.23},\n",
    "        {\"color\": \"Red\", \"size\": \"large\", \"qty\": 10, \"price\": 46.82},\n",
    "        {\"color\": \"Green\", \"size\": \"large\", \"qty\": 7, \"price\": 45.43},\n",
    "    ]},\n",
    "    {\"name\": \"Mug\", \"departments\": [\"Home\", \"Kitchen\"], \"versions\": [\n",
    "        {\"color\": \"White\", \"size\": \"11 oz\", \"qty\": 14, \"price\": 14.79},\n",
    "        {\"color\": \"Blue\", \"size\": \"11 oz\", \"qty\": 23, \"price\": 15.23},\n",
    "        {\"color\": \"Green\", \"size\": \"11 oz\", \"qty\": 15, \"price\": 15.07},\n",
    "        {\"color\": \"White\", \"size\": \"15 oz\", \"qty\": 11, \"price\": 24.43},\n",
    "        {\"color\": \"Blue\", \"size\": \"15 oz\", \"qty\": 7, \"price\": 25.42},\n",
    "        {\"color\": \"Green\", \"size\": \"15 oz\", \"qty\": 10, \"price\": 25.83},\n",
    "    ]},\n",
    "    {\"name\": \"Pens\", \"departments\": [\"School\", \"Office\"], \"versions\": [\n",
    "        {\"color\": \"Black\", \"type\": \"10 Pack\", \"qty\": 40, \"price\": 14.79},\n",
    "        {\"color\": \"Red\", \"type\": \"10 Pack\", \"qty\": 13, \"price\": 15.23},\n",
    "        {\"color\": \"Blue\", \"type\": \"10 Pack\", \"qty\": 12, \"price\": 15.07}\n",
    "    ]}\n",
    "])"
   ]
  },
  {
   "cell_type": "markdown",
   "id": "821f64a2",
   "metadata": {},
   "source": [
    "### Searching For Data In Arrays"
   ]
  },
  {
   "cell_type": "code",
   "execution_count": 9,
   "id": "9b3149e7",
   "metadata": {},
   "outputs": [
    {
     "name": "stdout",
     "output_type": "stream",
     "text": [
      "{'_id': ObjectId('6408ced47738dcdd184fcf2c'), 'name': 'Bag', 'departments': ['School'], 'versions': [{'color': 'Black', 'size': 'small', 'qty': 5, 'price': 17.79}, {'color': 'Red', 'size': 'small', 'qty': 3, 'price': 18.23}, {'color': 'Green', 'size': 'small', 'qty': 5, 'price': 20.03}, {'color': 'Black', 'size': 'large', 'qty': 1, 'price': 41.23}, {'color': 'Red', 'size': 'large', 'qty': 10, 'price': 46.82}, {'color': 'Green', 'size': 'large', 'qty': 7, 'price': 45.43}]}\n",
      "\n",
      "{'_id': ObjectId('6408ced47738dcdd184fcf2e'), 'name': 'Pens', 'departments': ['Office', 'School'], 'versions': [{'color': 'Black', 'type': '10 Pack', 'qty': 40, 'price': 14.79}, {'color': 'Red', 'type': '10 Pack', 'qty': 13, 'price': 15.23}, {'color': 'Blue', 'type': '10 Pack', 'qty': 12, 'price': 15.07}]}\n",
      "\n"
     ]
    }
   ],
   "source": [
    "find_cursor = db.items.find({\"departments\":\"School\"})\n",
    "print_cursor(find_cursor)"
   ]
  },
  {
   "cell_type": "code",
   "execution_count": 11,
   "id": "e654b313",
   "metadata": {},
   "outputs": [
    {
     "name": "stdout",
     "output_type": "stream",
     "text": [
      "{'_id': ObjectId('6408ced47738dcdd184fcf2d'), 'name': 'Mug', 'departments': ['Home', 'Kitchen'], 'versions': [{'color': 'White', 'size': '11 oz', 'qty': 14, 'price': 14.79}, {'color': 'Blue', 'size': '11 oz', 'qty': 23, 'price': 15.23}, {'color': 'Green', 'size': '11 oz', 'qty': 15, 'price': 15.07}, {'color': 'White', 'size': '15 oz', 'qty': 11, 'price': 24.43}, {'color': 'Blue', 'size': '15 oz', 'qty': 7, 'price': 25.42}, {'color': 'Green', 'size': '15 oz', 'qty': 10, 'price': 25.83}]}\n",
      "\n"
     ]
    }
   ],
   "source": [
    "find_cursor = db.items.find({\"departments\":\"Kitchen\"})\n",
    "print_cursor(find_cursor)"
   ]
  },
  {
   "cell_type": "code",
   "execution_count": 13,
   "id": "6b1228a8",
   "metadata": {},
   "outputs": [
    {
     "name": "stdout",
     "output_type": "stream",
     "text": [
      "{'_id': ObjectId('6408ced47738dcdd184fcf2d'), 'name': 'Mug', 'departments': ['Home', 'Kitchen'], 'versions': [{'color': 'White', 'size': '11 oz', 'qty': 14, 'price': 14.79}, {'color': 'Blue', 'size': '11 oz', 'qty': 23, 'price': 15.23}, {'color': 'Green', 'size': '11 oz', 'qty': 15, 'price': 15.07}, {'color': 'White', 'size': '15 oz', 'qty': 11, 'price': 24.43}, {'color': 'Blue', 'size': '15 oz', 'qty': 7, 'price': 25.42}, {'color': 'Green', 'size': '15 oz', 'qty': 10, 'price': 25.83}]}\n",
      "\n"
     ]
    }
   ],
   "source": [
    "# If I  stricly want kitchen and home together. no OTHER order only in this order exctly this order\n",
    "# [\"Kitchen\", \"Home\"] -> returns nothing order matters\n",
    "find_cursor = db.items.find({\"departments\":[\"Home\",\"Kitchen\"]})\n",
    "print_cursor(find_cursor)"
   ]
  },
  {
   "cell_type": "code",
   "execution_count": 20,
   "id": "6daa762b",
   "metadata": {},
   "outputs": [],
   "source": [
    "find_cursor = db.items.find({\"departments\":[\"Kitchen\", \"Home\"]})\n",
    "print_cursor(find_cursor)"
   ]
  },
  {
   "cell_type": "markdown",
   "id": "a01505d8",
   "metadata": {},
   "source": [
    "### Looking At Array Length"
   ]
  },
  {
   "cell_type": "code",
   "execution_count": 21,
   "id": "a9aaea19",
   "metadata": {},
   "outputs": [
    {
     "name": "stdout",
     "output_type": "stream",
     "text": [
      "{'_id': ObjectId('6408ced47738dcdd184fcf2d'), 'name': 'Mug', 'departments': ['Home', 'Kitchen'], 'versions': [{'color': 'White', 'size': '11 oz', 'qty': 14, 'price': 14.79}, {'color': 'Blue', 'size': '11 oz', 'qty': 23, 'price': 15.23}, {'color': 'Green', 'size': '11 oz', 'qty': 15, 'price': 15.07}, {'color': 'White', 'size': '15 oz', 'qty': 11, 'price': 24.43}, {'color': 'Blue', 'size': '15 oz', 'qty': 7, 'price': 25.42}, {'color': 'Green', 'size': '15 oz', 'qty': 10, 'price': 25.83}]}\n",
      "\n",
      "{'_id': ObjectId('6408ced47738dcdd184fcf2e'), 'name': 'Pens', 'departments': ['Office', 'School'], 'versions': [{'color': 'Black', 'type': '10 Pack', 'qty': 40, 'price': 14.79}, {'color': 'Red', 'type': '10 Pack', 'qty': 13, 'price': 15.23}, {'color': 'Blue', 'type': '10 Pack', 'qty': 12, 'price': 15.07}]}\n",
      "\n"
     ]
    }
   ],
   "source": [
    "# department array of size 2\n",
    "find_cursor = db.items.find({\"departments\":{\"$size\": 2}})\n",
    "print_cursor(find_cursor)"
   ]
  },
  {
   "cell_type": "code",
   "execution_count": 24,
   "id": "54c96cea",
   "metadata": {},
   "outputs": [
    {
     "name": "stdout",
     "output_type": "stream",
     "text": [
      "{'_id': ObjectId('6408ced47738dcdd184fcf2e'), 'name': 'Pens', 'departments': ['Office', 'School'], 'versions': [{'color': 'Black', 'type': '10 Pack', 'qty': 40, 'price': 14.79}, {'color': 'Red', 'type': '10 Pack', 'qty': 13, 'price': 15.23}, {'color': 'Blue', 'type': '10 Pack', 'qty': 12, 'price': 15.07}]}\n",
      "\n"
     ]
    }
   ],
   "source": [
    "find_cursor = db.items.find({\"versions\":{\"$size\": 3}})\n",
    "print_cursor(find_cursor)"
   ]
  },
  {
   "cell_type": "code",
   "execution_count": 25,
   "id": "286fcc70",
   "metadata": {},
   "outputs": [
    {
     "name": "stdout",
     "output_type": "stream",
     "text": [
      "{'_id': ObjectId('6408ced47738dcdd184fcf2c'), 'name': 'Bag', 'departments': ['School'], 'versions': [{'color': 'Black', 'size': 'small', 'qty': 5, 'price': 17.79}, {'color': 'Red', 'size': 'small', 'qty': 3, 'price': 18.23}, {'color': 'Green', 'size': 'small', 'qty': 5, 'price': 20.03}, {'color': 'Black', 'size': 'large', 'qty': 1, 'price': 41.23}, {'color': 'Red', 'size': 'large', 'qty': 10, 'price': 46.82}, {'color': 'Green', 'size': 'large', 'qty': 7, 'price': 45.43}]}\n",
      "\n",
      "{'_id': ObjectId('6408ced47738dcdd184fcf2d'), 'name': 'Mug', 'departments': ['Home', 'Kitchen'], 'versions': [{'color': 'White', 'size': '11 oz', 'qty': 14, 'price': 14.79}, {'color': 'Blue', 'size': '11 oz', 'qty': 23, 'price': 15.23}, {'color': 'Green', 'size': '11 oz', 'qty': 15, 'price': 15.07}, {'color': 'White', 'size': '15 oz', 'qty': 11, 'price': 24.43}, {'color': 'Blue', 'size': '15 oz', 'qty': 7, 'price': 25.42}, {'color': 'Green', 'size': '15 oz', 'qty': 10, 'price': 25.83}]}\n",
      "\n"
     ]
    }
   ],
   "source": [
    "# no comparisons\n",
    "#inject javascript code\n",
    "#ineffecient as it will run js code in each entry\n",
    "find_cursor = db.items.find({\"$where\": \"this.versions.length>4\"})\n",
    "print_cursor(find_cursor)"
   ]
  },
  {
   "cell_type": "markdown",
   "id": "e59dad98",
   "metadata": {},
   "source": [
    "### Working With Arrays Of Embedded Documents"
   ]
  },
  {
   "cell_type": "code",
   "execution_count": 26,
   "id": "38f061ad",
   "metadata": {},
   "outputs": [
    {
     "name": "stdout",
     "output_type": "stream",
     "text": [
      "{'_id': ObjectId('6408ced47738dcdd184fcf2c'), 'name': 'Bag', 'departments': ['School'], 'versions': [{'color': 'Black', 'size': 'small', 'qty': 5, 'price': 17.79}, {'color': 'Red', 'size': 'small', 'qty': 3, 'price': 18.23}, {'color': 'Green', 'size': 'small', 'qty': 5, 'price': 20.03}, {'color': 'Black', 'size': 'large', 'qty': 1, 'price': 41.23}, {'color': 'Red', 'size': 'large', 'qty': 10, 'price': 46.82}, {'color': 'Green', 'size': 'large', 'qty': 7, 'price': 45.43}]}\n",
      "\n",
      "{'_id': ObjectId('6408ced47738dcdd184fcf2e'), 'name': 'Pens', 'departments': ['Office', 'School'], 'versions': [{'color': 'Black', 'type': '10 Pack', 'qty': 40, 'price': 14.79}, {'color': 'Red', 'type': '10 Pack', 'qty': 13, 'price': 15.23}, {'color': 'Blue', 'type': '10 Pack', 'qty': 12, 'price': 15.07}]}\n",
      "\n"
     ]
    }
   ],
   "source": [
    "# dot notation to reach inner document\n",
    "# entire entry not only embeded document\n",
    "find_cursor = db.items.find({\"versions.color\": \"Red\"})\n",
    "print_cursor(find_cursor)"
   ]
  },
  {
   "cell_type": "code",
   "execution_count": 28,
   "id": "62eec0a1",
   "metadata": {},
   "outputs": [
    {
     "name": "stdout",
     "output_type": "stream",
     "text": [
      "{'_id': ObjectId('6408ced47738dcdd184fcf2c'), 'name': 'Bag', 'departments': ['School'], 'versions': [{'color': 'Black', 'size': 'small', 'qty': 5, 'price': 17.79}, {'color': 'Red', 'size': 'small', 'qty': 3, 'price': 18.23}, {'color': 'Green', 'size': 'small', 'qty': 5, 'price': 20.03}, {'color': 'Black', 'size': 'large', 'qty': 1, 'price': 41.23}, {'color': 'Red', 'size': 'large', 'qty': 10, 'price': 46.82}, {'color': 'Green', 'size': 'large', 'qty': 7, 'price': 45.43}]}\n",
      "\n",
      "{'_id': ObjectId('6408ced47738dcdd184fcf2d'), 'name': 'Mug', 'departments': ['Home', 'Kitchen'], 'versions': [{'color': 'White', 'size': '11 oz', 'qty': 14, 'price': 14.79}, {'color': 'Blue', 'size': '11 oz', 'qty': 23, 'price': 15.23}, {'color': 'Green', 'size': '11 oz', 'qty': 15, 'price': 15.07}, {'color': 'White', 'size': '15 oz', 'qty': 11, 'price': 24.43}, {'color': 'Blue', 'size': '15 oz', 'qty': 7, 'price': 25.42}, {'color': 'Green', 'size': '15 oz', 'qty': 10, 'price': 25.83}]}\n",
      "\n"
     ]
    }
   ],
   "source": [
    "# check if specific attribute ( size, name ,surname)\n",
    "# mongo is json there can be or may not be name attribute\n",
    "# exists in embeded document\n",
    "find_cursor = db.items.find({\"versions.size\":{\"$exists\": True}})\n",
    "print_cursor(find_cursor)"
   ]
  },
  {
   "cell_type": "code",
   "execution_count": 30,
   "id": "0bb89a28",
   "metadata": {},
   "outputs": [
    {
     "name": "stdout",
     "output_type": "stream",
     "text": [
      "{'_id': ObjectId('6408ced47738dcdd184fcf2e'), 'name': 'Pens', 'departments': ['Office', 'School'], 'versions': [{'color': 'Black', 'type': '10 Pack', 'qty': 40, 'price': 14.79}, {'color': 'Red', 'type': '10 Pack', 'qty': 13, 'price': 15.23}, {'color': 'Blue', 'type': '10 Pack', 'qty': 12, 'price': 15.07}]}\n",
      "\n"
     ]
    }
   ],
   "source": [
    "find_cursor = db.items.find({\"versions.qty\":{\"$gt\": 35}})\n",
    "print_cursor(find_cursor)"
   ]
  },
  {
   "cell_type": "markdown",
   "id": "8b32f857",
   "metadata": {},
   "source": [
    "### Updating Arrays"
   ]
  },
  {
   "cell_type": "code",
   "execution_count": 33,
   "id": "e6987cc5",
   "metadata": {},
   "outputs": [
    {
     "data": {
      "text/plain": "{'n': 1, 'nModified': 0, 'ok': 1.0, 'updatedExisting': True}"
     },
     "execution_count": 33,
     "metadata": {},
     "output_type": "execute_result"
    }
   ],
   "source": [
    "update_many_res = db.items.update_many({\"name\":\"Pens\"}, {\"$set\": {\"departments\":[\"Office\", \"School\"]}})\n",
    "update_many_res.raw_result"
   ]
  },
  {
   "cell_type": "code",
   "execution_count": 34,
   "id": "e7d5dd72",
   "metadata": {},
   "outputs": [
    {
     "data": {
      "text/plain": "['Office', 'School']"
     },
     "execution_count": 34,
     "metadata": {},
     "output_type": "execute_result"
    }
   ],
   "source": [
    "db.items.find_one({\"name\":\"Pens\"})[\"departments\"]"
   ]
  },
  {
   "cell_type": "code",
   "execution_count": 35,
   "id": "f9cfbeda",
   "metadata": {},
   "outputs": [
    {
     "data": {
      "text/plain": "{'n': 1, 'nModified': 1, 'ok': 1.0, 'updatedExisting': True}"
     },
     "execution_count": 35,
     "metadata": {},
     "output_type": "execute_result"
    }
   ],
   "source": [
    "update_many_res = db.items.update_many({\"name\":\"Mug\"}, {\"$pop\":{\"departments\":1}})\n",
    "update_many_res.raw_result"
   ]
  },
  {
   "cell_type": "code",
   "execution_count": 46,
   "id": "cd46c9de",
   "metadata": {},
   "outputs": [
    {
     "data": {
      "text/plain": "[]"
     },
     "execution_count": 46,
     "metadata": {},
     "output_type": "execute_result"
    }
   ],
   "source": [
    "db.items.find_one({\"name\":\"Mug\"})[\"departments\"]"
   ]
  },
  {
   "cell_type": "code",
   "execution_count": 47,
   "id": "827db4db",
   "metadata": {},
   "outputs": [
    {
     "data": {
      "text/plain": "{'n': 3, 'nModified': 2, 'ok': 1.0, 'updatedExisting': True}"
     },
     "execution_count": 47,
     "metadata": {},
     "output_type": "execute_result"
    }
   ],
   "source": [
    "update_many_res = db.items.update_many({\"name\":\"Mug\"}, {\"$pull\":{\"departments\":\"Home\"}})\n",
    "update_many_res.raw_result"
   ]
  },
  {
   "cell_type": "code",
   "execution_count": 48,
   "id": "13378362",
   "metadata": {},
   "outputs": [
    {
     "data": {
      "text/plain": "[]"
     },
     "execution_count": 48,
     "metadata": {},
     "output_type": "execute_result"
    }
   ],
   "source": [
    "db.items.find_one({\"name\":\"Mug\"})[\"departments\"]"
   ]
  },
  {
   "cell_type": "code",
   "execution_count": 49,
   "id": "70c482f3",
   "metadata": {},
   "outputs": [
    {
     "data": {
      "text/plain": "{'n': 3, 'nModified': 3, 'ok': 1.0, 'updatedExisting': True}"
     },
     "execution_count": 49,
     "metadata": {},
     "output_type": "execute_result"
    }
   ],
   "source": [
    "update_many_res = db.items.update_many({\"name\":\"Mug\"}, {\"$push\":{\"departments\":\"Home\"}})\n",
    "update_many_res.raw_result"
   ]
  },
  {
   "cell_type": "code",
   "execution_count": 50,
   "id": "6677df1f",
   "metadata": {},
   "outputs": [
    {
     "data": {
      "text/plain": "['Home']"
     },
     "execution_count": 50,
     "metadata": {},
     "output_type": "execute_result"
    }
   ],
   "source": [
    "db.items.find_one({\"name\":\"Mug\"})[\"departments\"]"
   ]
  },
  {
   "cell_type": "markdown",
   "id": "2904712b",
   "metadata": {},
   "source": [
    "### Sets VS Arrays"
   ]
  },
  {
   "cell_type": "code",
   "execution_count": 52,
   "id": "cf1b2d1a",
   "metadata": {},
   "outputs": [
    {
     "name": "stdout",
     "output_type": "stream",
     "text": [
      "<class 'set'>\n",
      "{'Home', 'Office'}\n"
     ]
    }
   ],
   "source": [
    "# in python {} to create\n",
    "my_set = {\"Home\", \"Office\"}\n",
    "print(type(my_set))\n",
    "print(my_set)"
   ]
  },
  {
   "cell_type": "code",
   "execution_count": 56,
   "id": "98718518",
   "metadata": {},
   "outputs": [
    {
     "data": {
      "text/plain": "{'Home', 'Office', 'School'}"
     },
     "execution_count": 56,
     "metadata": {},
     "output_type": "execute_result"
    }
   ],
   "source": [
    "my_set.add(\"School\")\n",
    "my_set"
   ]
  },
  {
   "cell_type": "code",
   "execution_count": 57,
   "id": "a8b85b21",
   "metadata": {},
   "outputs": [
    {
     "data": {
      "text/plain": "{'Home', 'Office', 'School', 'Technology'}"
     },
     "execution_count": 57,
     "metadata": {},
     "output_type": "execute_result"
    }
   ],
   "source": [
    "my_set.update([\"Office\", \"Technology\"])\n",
    "my_set"
   ]
  },
  {
   "cell_type": "code",
   "execution_count": 58,
   "id": "0577cd8f",
   "metadata": {},
   "outputs": [
    {
     "data": {
      "text/plain": "{'n': 3, 'nModified': 3, 'ok': 1.0, 'updatedExisting': True}"
     },
     "execution_count": 58,
     "metadata": {},
     "output_type": "execute_result"
    }
   ],
   "source": [
    "update_many_res = db.items.update_many({\"name\":\"Pens\"}, {\"$addToSet\":{\"departments\":\"Home\"}})\n",
    "update_many_res.raw_result"
   ]
  },
  {
   "cell_type": "code",
   "execution_count": 59,
   "id": "87afa4e2",
   "metadata": {},
   "outputs": [
    {
     "data": {
      "text/plain": "{'n': 3, 'nModified': 3, 'ok': 1.0, 'updatedExisting': True}"
     },
     "execution_count": 59,
     "metadata": {},
     "output_type": "execute_result"
    }
   ],
   "source": [
    "update_many_res = db.items.update_many(\n",
    "    {\"name\":\"Pens\"},\n",
    "    {\"$addToSet\":{\n",
    "        \"departments\":{\n",
    "            \"$each\":[\"Wrok\",\"Home\"]}\n",
    "    }})\n",
    "update_many_res.raw_result"
   ]
  },
  {
   "cell_type": "code",
   "execution_count": null,
   "id": "f5bdc49e",
   "metadata": {},
   "outputs": [],
   "source": []
  },
  {
   "cell_type": "code",
   "execution_count": null,
   "id": "8b5fc38a",
   "metadata": {},
   "outputs": [],
   "source": []
  }
 ],
 "metadata": {
  "kernelspec": {
   "display_name": "Python 3 (ipykernel)",
   "language": "python",
   "name": "python3"
  },
  "language_info": {
   "codemirror_mode": {
    "name": "ipython",
    "version": 3
   },
   "file_extension": ".py",
   "mimetype": "text/x-python",
   "name": "python",
   "nbconvert_exporter": "python",
   "pygments_lexer": "ipython3",
   "version": "3.8.11"
  }
 },
 "nbformat": 4,
 "nbformat_minor": 5
}
