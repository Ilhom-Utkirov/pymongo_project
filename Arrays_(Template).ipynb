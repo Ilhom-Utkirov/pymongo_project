{
 "cells": [
  {
   "cell_type": "markdown",
   "id": "82b79211",
   "metadata": {},
   "source": [
    "# Working With Arrays In MongoDB\n",
    "\n",
    "Go over some features which allow you to interact with the Array data in your entries"
   ]
  },
  {
   "cell_type": "code",
   "execution_count": 1,
   "id": "51e8b0ee",
   "metadata": {},
   "outputs": [],
   "source": [
    "from pymongo import MongoClient"
   ]
  },
  {
   "cell_type": "markdown",
   "source": [],
   "metadata": {
    "collapsed": false
   }
  },
  {
   "cell_type": "markdown",
   "id": "59d6f5d1",
   "metadata": {},
   "source": [
    "### Initalize A Client, Connect To DB"
   ]
  },
  {
   "cell_type": "code",
   "execution_count": 8,
   "id": "b6fb6675",
   "metadata": {},
   "outputs": [],
   "source": [
    "client = MongoClient(\"mongodb://localhost:27017/\" )\n",
    "db = client[\"my_store\"]"
   ]
  },
  {
   "cell_type": "markdown",
   "id": "3b7ff9be",
   "metadata": {},
   "source": [
    "### Print Entries From Cursor"
   ]
  },
  {
   "cell_type": "code",
   "execution_count": 7,
   "id": "fb611b3b",
   "metadata": {},
   "outputs": [],
   "source": [
    "def print_cursor(cursor_var):\n",
    "    for document in cursor_var:\n",
    "        print(document)\n",
    "        print()"
   ]
  },
  {
   "cell_type": "markdown",
   "id": "c854287d",
   "metadata": {},
   "source": [
    "### Insert New Entries"
   ]
  },
  {
   "cell_type": "code",
   "execution_count": 5,
   "id": "998d2d20",
   "metadata": {},
   "outputs": [
    {
     "data": {
      "text/plain": "<pymongo.results.InsertManyResult at 0x160b8bbedc0>"
     },
     "execution_count": 5,
     "metadata": {},
     "output_type": "execute_result"
    }
   ],
   "source": [
    "db.items.insert_many([\n",
    "    {\"name\": \"Bag\", \"departments\": [\"School\"], \"versions\": [\n",
    "        {\"color\": \"Black\", \"size\": \"small\", \"qty\": 5, \"price\": 17.79},\n",
    "        {\"color\": \"Red\", \"size\": \"small\", \"qty\": 3, \"price\": 18.23},\n",
    "        {\"color\": \"Green\", \"size\": \"small\", \"qty\": 5, \"price\": 20.03},\n",
    "        {\"color\": \"Black\", \"size\": \"large\", \"qty\": 1, \"price\": 41.23},\n",
    "        {\"color\": \"Red\", \"size\": \"large\", \"qty\": 10, \"price\": 46.82},\n",
    "        {\"color\": \"Green\", \"size\": \"large\", \"qty\": 7, \"price\": 45.43},\n",
    "    ]},\n",
    "    {\"name\": \"Mug\", \"departments\": [\"Home\", \"Kitchen\"], \"versions\": [\n",
    "        {\"color\": \"White\", \"size\": \"11 oz\", \"qty\": 14, \"price\": 14.79},\n",
    "        {\"color\": \"Blue\", \"size\": \"11 oz\", \"qty\": 23, \"price\": 15.23},\n",
    "        {\"color\": \"Green\", \"size\": \"11 oz\", \"qty\": 15, \"price\": 15.07},\n",
    "        {\"color\": \"White\", \"size\": \"15 oz\", \"qty\": 11, \"price\": 24.43},\n",
    "        {\"color\": \"Blue\", \"size\": \"15 oz\", \"qty\": 7, \"price\": 25.42},\n",
    "        {\"color\": \"Green\", \"size\": \"15 oz\", \"qty\": 10, \"price\": 25.83},\n",
    "    ]},\n",
    "    {\"name\": \"Pens\", \"departments\": [\"School\", \"Office\"], \"versions\": [\n",
    "        {\"color\": \"Black\", \"type\": \"10 Pack\", \"qty\": 40, \"price\": 14.79},\n",
    "        {\"color\": \"Red\", \"type\": \"10 Pack\", \"qty\": 13, \"price\": 15.23},\n",
    "        {\"color\": \"Blue\", \"type\": \"10 Pack\", \"qty\": 12, \"price\": 15.07}\n",
    "    ]}\n",
    "])"
   ]
  },
  {
   "cell_type": "markdown",
   "id": "821f64a2",
   "metadata": {},
   "source": [
    "### Searching For Data In Arrays"
   ]
  },
  {
   "cell_type": "code",
   "execution_count": 15,
   "id": "9b3149e7",
   "metadata": {},
   "outputs": [
    {
     "name": "stdout",
     "output_type": "stream",
     "text": [
      "{'_id': ObjectId('6408ced47738dcdd184fcf2c'), 'name': 'Bag', 'departments': ['School'], 'versions': [{'color': 'Black', 'size': 'small', 'qty': 5, 'price': 17.79}, {'color': 'Red', 'size': 'small', 'qty': 3, 'price': 18.23}, {'color': 'Green', 'size': 'small', 'qty': 5, 'price': 20.03}, {'color': 'Black', 'size': 'large', 'qty': 1, 'price': 41.23}, {'color': 'Red', 'size': 'large', 'qty': 10, 'price': 46.82}, {'color': 'Green', 'size': 'large', 'qty': 7, 'price': 45.43}]}\n",
      "\n",
      "{'_id': ObjectId('6408ced47738dcdd184fcf2e'), 'name': 'Pens', 'departments': ['School', 'Office'], 'versions': [{'color': 'Black', 'type': '10 Pack', 'qty': 40, 'price': 14.79}, {'color': 'Red', 'type': '10 Pack', 'qty': 13, 'price': 15.23}, {'color': 'Blue', 'type': '10 Pack', 'qty': 12, 'price': 15.07}]}\n",
      "\n"
     ]
    }
   ],
   "source": [
    "find_cursor = db.items.find({\"departments\":\"School\"})\n",
    "print_cursor(find_cursor)"
   ]
  },
  {
   "cell_type": "code",
   "execution_count": 16,
   "id": "e654b313",
   "metadata": {},
   "outputs": [
    {
     "name": "stdout",
     "output_type": "stream",
     "text": [
      "{'_id': ObjectId('6408ced47738dcdd184fcf2d'), 'name': 'Mug', 'departments': ['Home', 'Kitchen'], 'versions': [{'color': 'White', 'size': '11 oz', 'qty': 14, 'price': 14.79}, {'color': 'Blue', 'size': '11 oz', 'qty': 23, 'price': 15.23}, {'color': 'Green', 'size': '11 oz', 'qty': 15, 'price': 15.07}, {'color': 'White', 'size': '15 oz', 'qty': 11, 'price': 24.43}, {'color': 'Blue', 'size': '15 oz', 'qty': 7, 'price': 25.42}, {'color': 'Green', 'size': '15 oz', 'qty': 10, 'price': 25.83}]}\n",
      "\n"
     ]
    }
   ],
   "source": [
    "find_cursor = db.items.find({\"departments\":\"Kitchen\"})\n",
    "print_cursor(find_cursor)"
   ]
  },
  {
   "cell_type": "code",
   "execution_count": 23,
   "id": "6b1228a8",
   "metadata": {},
   "outputs": [
    {
     "name": "stdout",
     "output_type": "stream",
     "text": [
      "{'_id': ObjectId('6408ced47738dcdd184fcf2d'), 'name': 'Mug', 'departments': ['Home', 'Kitchen'], 'versions': [{'color': 'White', 'size': '11 oz', 'qty': 14, 'price': 14.79}, {'color': 'Blue', 'size': '11 oz', 'qty': 23, 'price': 15.23}, {'color': 'Green', 'size': '11 oz', 'qty': 15, 'price': 15.07}, {'color': 'White', 'size': '15 oz', 'qty': 11, 'price': 24.43}, {'color': 'Blue', 'size': '15 oz', 'qty': 7, 'price': 25.42}, {'color': 'Green', 'size': '15 oz', 'qty': 10, 'price': 25.83}]}\n",
      "\n"
     ]
    }
   ],
   "source": [
    "# stricly want kitchen and home together [\"Kitchen\", \"Home\"] -> returns nothing\n",
    "find_cursor = db.items.find({\"departments\":[\"Home\",\"Kitchen\"]})\n",
    "print_cursor(find_cursor)"
   ]
  },
  {
   "cell_type": "code",
   "execution_count": 24,
   "id": "6daa762b",
   "metadata": {},
   "outputs": [],
   "source": [
    "find_cursor = db.items.find({\"departments\":[\"Kitchen\", \"Home\"]})\n",
    "print_cursor(find_cursor)"
   ]
  },
  {
   "cell_type": "markdown",
   "id": "a01505d8",
   "metadata": {},
   "source": [
    "### Looking At Array Length"
   ]
  },
  {
   "cell_type": "code",
   "execution_count": 29,
   "id": "a9aaea19",
   "metadata": {},
   "outputs": [
    {
     "name": "stdout",
     "output_type": "stream",
     "text": [
      "{'_id': ObjectId('6408ced47738dcdd184fcf2d'), 'name': 'Mug', 'departments': ['Home', 'Kitchen'], 'versions': [{'color': 'White', 'size': '11 oz', 'qty': 14, 'price': 14.79}, {'color': 'Blue', 'size': '11 oz', 'qty': 23, 'price': 15.23}, {'color': 'Green', 'size': '11 oz', 'qty': 15, 'price': 15.07}, {'color': 'White', 'size': '15 oz', 'qty': 11, 'price': 24.43}, {'color': 'Blue', 'size': '15 oz', 'qty': 7, 'price': 25.42}, {'color': 'Green', 'size': '15 oz', 'qty': 10, 'price': 25.83}]}\n",
      "\n",
      "{'_id': ObjectId('6408ced47738dcdd184fcf2e'), 'name': 'Pens', 'departments': ['School', 'Office'], 'versions': [{'color': 'Black', 'type': '10 Pack', 'qty': 40, 'price': 14.79}, {'color': 'Red', 'type': '10 Pack', 'qty': 13, 'price': 15.23}, {'color': 'Blue', 'type': '10 Pack', 'qty': 12, 'price': 15.07}]}\n",
      "\n"
     ]
    }
   ],
   "source": [
    "# department array of size 2\n",
    "find_cursor = db.items.find({\"departments\":{\"$size\": 2}})\n",
    "print_cursor(find_cursor)"
   ]
  },
  {
   "cell_type": "code",
   "execution_count": 32,
   "id": "54c96cea",
   "metadata": {},
   "outputs": [
    {
     "name": "stdout",
     "output_type": "stream",
     "text": [
      "{'_id': ObjectId('6408ced47738dcdd184fcf2e'), 'name': 'Pens', 'departments': ['School', 'Office'], 'versions': [{'color': 'Black', 'type': '10 Pack', 'qty': 40, 'price': 14.79}, {'color': 'Red', 'type': '10 Pack', 'qty': 13, 'price': 15.23}, {'color': 'Blue', 'type': '10 Pack', 'qty': 12, 'price': 15.07}]}\n",
      "\n"
     ]
    }
   ],
   "source": [
    "find_cursor = db.items.find({\"versions\":{\"$size\": 3}})\n",
    "print_cursor(find_cursor)"
   ]
  },
  {
   "cell_type": "code",
   "execution_count": 33,
   "id": "286fcc70",
   "metadata": {},
   "outputs": [
    {
     "name": "stdout",
     "output_type": "stream",
     "text": [
      "{'_id': ObjectId('6408ced47738dcdd184fcf2c'), 'name': 'Bag', 'departments': ['School'], 'versions': [{'color': 'Black', 'size': 'small', 'qty': 5, 'price': 17.79}, {'color': 'Red', 'size': 'small', 'qty': 3, 'price': 18.23}, {'color': 'Green', 'size': 'small', 'qty': 5, 'price': 20.03}, {'color': 'Black', 'size': 'large', 'qty': 1, 'price': 41.23}, {'color': 'Red', 'size': 'large', 'qty': 10, 'price': 46.82}, {'color': 'Green', 'size': 'large', 'qty': 7, 'price': 45.43}]}\n",
      "\n",
      "{'_id': ObjectId('6408ced47738dcdd184fcf2d'), 'name': 'Mug', 'departments': ['Home', 'Kitchen'], 'versions': [{'color': 'White', 'size': '11 oz', 'qty': 14, 'price': 14.79}, {'color': 'Blue', 'size': '11 oz', 'qty': 23, 'price': 15.23}, {'color': 'Green', 'size': '11 oz', 'qty': 15, 'price': 15.07}, {'color': 'White', 'size': '15 oz', 'qty': 11, 'price': 24.43}, {'color': 'Blue', 'size': '15 oz', 'qty': 7, 'price': 25.42}, {'color': 'Green', 'size': '15 oz', 'qty': 10, 'price': 25.83}]}\n",
      "\n"
     ]
    }
   ],
   "source": [
    "# no comparisons\n",
    "#inject javascript code\n",
    "find_cursor = db.items.find({\"$where\": \"this.versions.length>4\"})\n",
    "print_cursor(find_cursor)"
   ]
  },
  {
   "cell_type": "markdown",
   "id": "e59dad98",
   "metadata": {},
   "source": [
    "### Working With Arrays Of Embedded Documents"
   ]
  },
  {
   "cell_type": "code",
   "execution_count": 35,
   "id": "38f061ad",
   "metadata": {},
   "outputs": [
    {
     "name": "stdout",
     "output_type": "stream",
     "text": [
      "{'_id': ObjectId('6408ced47738dcdd184fcf2c'), 'name': 'Bag', 'departments': ['School'], 'versions': [{'color': 'Black', 'size': 'small', 'qty': 5, 'price': 17.79}, {'color': 'Red', 'size': 'small', 'qty': 3, 'price': 18.23}, {'color': 'Green', 'size': 'small', 'qty': 5, 'price': 20.03}, {'color': 'Black', 'size': 'large', 'qty': 1, 'price': 41.23}, {'color': 'Red', 'size': 'large', 'qty': 10, 'price': 46.82}, {'color': 'Green', 'size': 'large', 'qty': 7, 'price': 45.43}]}\n",
      "\n",
      "{'_id': ObjectId('6408ced47738dcdd184fcf2e'), 'name': 'Pens', 'departments': ['School', 'Office'], 'versions': [{'color': 'Black', 'type': '10 Pack', 'qty': 40, 'price': 14.79}, {'color': 'Red', 'type': '10 Pack', 'qty': 13, 'price': 15.23}, {'color': 'Blue', 'type': '10 Pack', 'qty': 12, 'price': 15.07}]}\n",
      "\n"
     ]
    }
   ],
   "source": [
    "find_cursor = db.items.find({\"versions.color\": \"Red\"})\n",
    "print_cursor(find_cursor)"
   ]
  },
  {
   "cell_type": "code",
   "execution_count": 36,
   "id": "62eec0a1",
   "metadata": {},
   "outputs": [
    {
     "name": "stdout",
     "output_type": "stream",
     "text": [
      "{'_id': ObjectId('6408ced47738dcdd184fcf2c'), 'name': 'Bag', 'departments': ['School'], 'versions': [{'color': 'Black', 'size': 'small', 'qty': 5, 'price': 17.79}, {'color': 'Red', 'size': 'small', 'qty': 3, 'price': 18.23}, {'color': 'Green', 'size': 'small', 'qty': 5, 'price': 20.03}, {'color': 'Black', 'size': 'large', 'qty': 1, 'price': 41.23}, {'color': 'Red', 'size': 'large', 'qty': 10, 'price': 46.82}, {'color': 'Green', 'size': 'large', 'qty': 7, 'price': 45.43}]}\n",
      "\n",
      "{'_id': ObjectId('6408ced47738dcdd184fcf2d'), 'name': 'Mug', 'departments': ['Home', 'Kitchen'], 'versions': [{'color': 'White', 'size': '11 oz', 'qty': 14, 'price': 14.79}, {'color': 'Blue', 'size': '11 oz', 'qty': 23, 'price': 15.23}, {'color': 'Green', 'size': '11 oz', 'qty': 15, 'price': 15.07}, {'color': 'White', 'size': '15 oz', 'qty': 11, 'price': 24.43}, {'color': 'Blue', 'size': '15 oz', 'qty': 7, 'price': 25.42}, {'color': 'Green', 'size': '15 oz', 'qty': 10, 'price': 25.83}]}\n",
      "\n"
     ]
    }
   ],
   "source": [
    "find_cursor = db.items.find({\"versions.size\":{\"$exists\": True}})\n",
    "print_cursor(find_cursor)"
   ]
  },
  {
   "cell_type": "code",
   "execution_count": 38,
   "id": "0bb89a28",
   "metadata": {},
   "outputs": [
    {
     "name": "stdout",
     "output_type": "stream",
     "text": [
      "{'_id': ObjectId('6408ced47738dcdd184fcf2e'), 'name': 'Pens', 'departments': ['School', 'Office'], 'versions': [{'color': 'Black', 'type': '10 Pack', 'qty': 40, 'price': 14.79}, {'color': 'Red', 'type': '10 Pack', 'qty': 13, 'price': 15.23}, {'color': 'Blue', 'type': '10 Pack', 'qty': 12, 'price': 15.07}]}\n",
      "\n"
     ]
    }
   ],
   "source": [
    "find_cursor = db.items.find({\"versions.qty\":{\"$gt\": 35}})\n",
    "print_cursor(find_cursor)"
   ]
  },
  {
   "cell_type": "markdown",
   "id": "8b32f857",
   "metadata": {},
   "source": [
    "### Updating Arrays"
   ]
  },
  {
   "cell_type": "code",
   "execution_count": 39,
   "id": "e6987cc5",
   "metadata": {},
   "outputs": [
    {
     "data": {
      "text/plain": "{'n': 1, 'nModified': 1, 'ok': 1.0, 'updatedExisting': True}"
     },
     "execution_count": 39,
     "metadata": {},
     "output_type": "execute_result"
    }
   ],
   "source": [
    "update_many_res = db.items.update_many({\"name\":\"Pens\"}, {\"$set\": {\"departments\":[\"Office\", \"School\"]}})\n",
    "update_many_res.raw_result"
   ]
  },
  {
   "cell_type": "code",
   "execution_count": 40,
   "id": "e7d5dd72",
   "metadata": {},
   "outputs": [
    {
     "data": {
      "text/plain": "['Office', 'School']"
     },
     "execution_count": 40,
     "metadata": {},
     "output_type": "execute_result"
    }
   ],
   "source": [
    "db.items.find_one({\"name\":\"Pens\"})[\"departments\"]"
   ]
  },
  {
   "cell_type": "code",
   "execution_count": 43,
   "id": "f9cfbeda",
   "metadata": {},
   "outputs": [
    {
     "ename": "WriteError",
     "evalue": "Expected a number in: departments: \"Home\", full error: {'index': 0, 'code': 9, 'errmsg': 'Expected a number in: departments: \"Home\"'}",
     "output_type": "error",
     "traceback": [
      "\u001B[1;31m---------------------------------------------------------------------------\u001B[0m",
      "\u001B[1;31mWriteError\u001B[0m                                Traceback (most recent call last)",
      "Cell \u001B[1;32mIn[43], line 1\u001B[0m\n\u001B[1;32m----> 1\u001B[0m update_many_res \u001B[38;5;241m=\u001B[39m \u001B[43mdb\u001B[49m\u001B[38;5;241;43m.\u001B[39;49m\u001B[43mitems\u001B[49m\u001B[38;5;241;43m.\u001B[39;49m\u001B[43mupdate_many\u001B[49m\u001B[43m(\u001B[49m\u001B[43m{\u001B[49m\u001B[38;5;124;43m\"\u001B[39;49m\u001B[38;5;124;43mname\u001B[39;49m\u001B[38;5;124;43m\"\u001B[39;49m\u001B[43m:\u001B[49m\u001B[38;5;124;43m\"\u001B[39;49m\u001B[38;5;124;43mMug\u001B[39;49m\u001B[38;5;124;43m\"\u001B[39;49m\u001B[43m}\u001B[49m\u001B[43m,\u001B[49m\u001B[43m \u001B[49m\u001B[43m{\u001B[49m\u001B[38;5;124;43m\"\u001B[39;49m\u001B[38;5;124;43m$pop\u001B[39;49m\u001B[38;5;124;43m\"\u001B[39;49m\u001B[43m:\u001B[49m\u001B[43m{\u001B[49m\u001B[38;5;124;43m\"\u001B[39;49m\u001B[38;5;124;43mdepartments\u001B[39;49m\u001B[38;5;124;43m\"\u001B[39;49m\u001B[43m:\u001B[49m\u001B[38;5;124;43m\"\u001B[39;49m\u001B[38;5;124;43mHome\u001B[39;49m\u001B[38;5;124;43m\"\u001B[39;49m\u001B[43m}\u001B[49m\u001B[43m}\u001B[49m\u001B[43m)\u001B[49m\n\u001B[0;32m      2\u001B[0m update_many_res\n",
      "File \u001B[1;32mC:\\Mine\\project\\pymongo\\venv\\lib\\site-packages\\pymongo\\collection.py:1104\u001B[0m, in \u001B[0;36mCollection.update_many\u001B[1;34m(self, filter, update, upsert, array_filters, bypass_document_validation, collation, hint, session)\u001B[0m\n\u001B[0;32m   1100\u001B[0m common\u001B[38;5;241m.\u001B[39mvalidate_list_or_none(\u001B[38;5;124m'\u001B[39m\u001B[38;5;124marray_filters\u001B[39m\u001B[38;5;124m'\u001B[39m, array_filters)\n\u001B[0;32m   1102\u001B[0m write_concern \u001B[38;5;241m=\u001B[39m \u001B[38;5;28mself\u001B[39m\u001B[38;5;241m.\u001B[39m_write_concern_for(session)\n\u001B[0;32m   1103\u001B[0m \u001B[38;5;28;01mreturn\u001B[39;00m UpdateResult(\n\u001B[1;32m-> 1104\u001B[0m     \u001B[38;5;28;43mself\u001B[39;49m\u001B[38;5;241;43m.\u001B[39;49m\u001B[43m_update_retryable\u001B[49m\u001B[43m(\u001B[49m\n\u001B[0;32m   1105\u001B[0m \u001B[43m        \u001B[49m\u001B[38;5;28;43mfilter\u001B[39;49m\u001B[43m,\u001B[49m\u001B[43m \u001B[49m\u001B[43mupdate\u001B[49m\u001B[43m,\u001B[49m\u001B[43m \u001B[49m\u001B[43mupsert\u001B[49m\u001B[43m,\u001B[49m\u001B[43m \u001B[49m\u001B[43mcheck_keys\u001B[49m\u001B[38;5;241;43m=\u001B[39;49m\u001B[38;5;28;43;01mFalse\u001B[39;49;00m\u001B[43m,\u001B[49m\u001B[43m \u001B[49m\u001B[43mmulti\u001B[49m\u001B[38;5;241;43m=\u001B[39;49m\u001B[38;5;28;43;01mTrue\u001B[39;49;00m\u001B[43m,\u001B[49m\n\u001B[0;32m   1106\u001B[0m \u001B[43m        \u001B[49m\u001B[43mwrite_concern\u001B[49m\u001B[38;5;241;43m=\u001B[39;49m\u001B[43mwrite_concern\u001B[49m\u001B[43m,\u001B[49m\n\u001B[0;32m   1107\u001B[0m \u001B[43m        \u001B[49m\u001B[43mbypass_doc_val\u001B[49m\u001B[38;5;241;43m=\u001B[39;49m\u001B[43mbypass_document_validation\u001B[49m\u001B[43m,\u001B[49m\n\u001B[0;32m   1108\u001B[0m \u001B[43m        \u001B[49m\u001B[43mcollation\u001B[49m\u001B[38;5;241;43m=\u001B[39;49m\u001B[43mcollation\u001B[49m\u001B[43m,\u001B[49m\u001B[43m \u001B[49m\u001B[43marray_filters\u001B[49m\u001B[38;5;241;43m=\u001B[39;49m\u001B[43marray_filters\u001B[49m\u001B[43m,\u001B[49m\n\u001B[0;32m   1109\u001B[0m \u001B[43m        \u001B[49m\u001B[43mhint\u001B[49m\u001B[38;5;241;43m=\u001B[39;49m\u001B[43mhint\u001B[49m\u001B[43m,\u001B[49m\u001B[43m \u001B[49m\u001B[43msession\u001B[49m\u001B[38;5;241;43m=\u001B[39;49m\u001B[43msession\u001B[49m\u001B[43m)\u001B[49m,\n\u001B[0;32m   1110\u001B[0m     write_concern\u001B[38;5;241m.\u001B[39macknowledged)\n",
      "File \u001B[1;32mC:\\Mine\\project\\pymongo\\venv\\lib\\site-packages\\pymongo\\collection.py:877\u001B[0m, in \u001B[0;36mCollection._update_retryable\u001B[1;34m(self, criteria, document, upsert, check_keys, multi, manipulate, write_concern, op_id, ordered, bypass_doc_val, collation, array_filters, hint, session)\u001B[0m\n\u001B[0;32m    868\u001B[0m \u001B[38;5;28;01mdef\u001B[39;00m \u001B[38;5;21m_update\u001B[39m(session, sock_info, retryable_write):\n\u001B[0;32m    869\u001B[0m     \u001B[38;5;28;01mreturn\u001B[39;00m \u001B[38;5;28mself\u001B[39m\u001B[38;5;241m.\u001B[39m_update(\n\u001B[0;32m    870\u001B[0m         sock_info, criteria, document, upsert\u001B[38;5;241m=\u001B[39mupsert,\n\u001B[0;32m    871\u001B[0m         check_keys\u001B[38;5;241m=\u001B[39mcheck_keys, multi\u001B[38;5;241m=\u001B[39mmulti, manipulate\u001B[38;5;241m=\u001B[39mmanipulate,\n\u001B[1;32m   (...)\u001B[0m\n\u001B[0;32m    874\u001B[0m         array_filters\u001B[38;5;241m=\u001B[39marray_filters, hint\u001B[38;5;241m=\u001B[39mhint, session\u001B[38;5;241m=\u001B[39msession,\n\u001B[0;32m    875\u001B[0m         retryable_write\u001B[38;5;241m=\u001B[39mretryable_write)\n\u001B[1;32m--> 877\u001B[0m \u001B[38;5;28;01mreturn\u001B[39;00m \u001B[38;5;28;43mself\u001B[39;49m\u001B[38;5;241;43m.\u001B[39;49m\u001B[43m__database\u001B[49m\u001B[38;5;241;43m.\u001B[39;49m\u001B[43mclient\u001B[49m\u001B[38;5;241;43m.\u001B[39;49m\u001B[43m_retryable_write\u001B[49m\u001B[43m(\u001B[49m\n\u001B[0;32m    878\u001B[0m \u001B[43m    \u001B[49m\u001B[43m(\u001B[49m\u001B[43mwrite_concern\u001B[49m\u001B[43m \u001B[49m\u001B[38;5;129;43;01mor\u001B[39;49;00m\u001B[43m \u001B[49m\u001B[38;5;28;43mself\u001B[39;49m\u001B[38;5;241;43m.\u001B[39;49m\u001B[43mwrite_concern\u001B[49m\u001B[43m)\u001B[49m\u001B[38;5;241;43m.\u001B[39;49m\u001B[43macknowledged\u001B[49m\u001B[43m \u001B[49m\u001B[38;5;129;43;01mand\u001B[39;49;00m\u001B[43m \u001B[49m\u001B[38;5;129;43;01mnot\u001B[39;49;00m\u001B[43m \u001B[49m\u001B[43mmulti\u001B[49m\u001B[43m,\u001B[49m\n\u001B[0;32m    879\u001B[0m \u001B[43m    \u001B[49m\u001B[43m_update\u001B[49m\u001B[43m,\u001B[49m\u001B[43m \u001B[49m\u001B[43msession\u001B[49m\u001B[43m)\u001B[49m\n",
      "File \u001B[1;32mC:\\Mine\\project\\pymongo\\venv\\lib\\site-packages\\pymongo\\mongo_client.py:1552\u001B[0m, in \u001B[0;36mMongoClient._retryable_write\u001B[1;34m(self, retryable, func, session)\u001B[0m\n\u001B[0;32m   1550\u001B[0m \u001B[38;5;250m\u001B[39m\u001B[38;5;124;03m\"\"\"Internal retryable write helper.\"\"\"\u001B[39;00m\n\u001B[0;32m   1551\u001B[0m \u001B[38;5;28;01mwith\u001B[39;00m \u001B[38;5;28mself\u001B[39m\u001B[38;5;241m.\u001B[39m_tmp_session(session) \u001B[38;5;28;01mas\u001B[39;00m s:\n\u001B[1;32m-> 1552\u001B[0m     \u001B[38;5;28;01mreturn\u001B[39;00m \u001B[38;5;28;43mself\u001B[39;49m\u001B[38;5;241;43m.\u001B[39;49m\u001B[43m_retry_with_session\u001B[49m\u001B[43m(\u001B[49m\u001B[43mretryable\u001B[49m\u001B[43m,\u001B[49m\u001B[43m \u001B[49m\u001B[43mfunc\u001B[49m\u001B[43m,\u001B[49m\u001B[43m \u001B[49m\u001B[43ms\u001B[49m\u001B[43m,\u001B[49m\u001B[43m \u001B[49m\u001B[38;5;28;43;01mNone\u001B[39;49;00m\u001B[43m)\u001B[49m\n",
      "File \u001B[1;32mC:\\Mine\\project\\pymongo\\venv\\lib\\site-packages\\pymongo\\mongo_client.py:1438\u001B[0m, in \u001B[0;36mMongoClient._retry_with_session\u001B[1;34m(self, retryable, func, session, bulk)\u001B[0m\n\u001B[0;32m   1429\u001B[0m \u001B[38;5;250m\u001B[39m\u001B[38;5;124;03m\"\"\"Execute an operation with at most one consecutive retries\u001B[39;00m\n\u001B[0;32m   1430\u001B[0m \n\u001B[0;32m   1431\u001B[0m \u001B[38;5;124;03mReturns func()'s return value on success. On error retries the same\u001B[39;00m\n\u001B[1;32m   (...)\u001B[0m\n\u001B[0;32m   1434\u001B[0m \u001B[38;5;124;03mRe-raises any exception thrown by func().\u001B[39;00m\n\u001B[0;32m   1435\u001B[0m \u001B[38;5;124;03m\"\"\"\u001B[39;00m\n\u001B[0;32m   1436\u001B[0m retryable \u001B[38;5;241m=\u001B[39m (retryable \u001B[38;5;129;01mand\u001B[39;00m \u001B[38;5;28mself\u001B[39m\u001B[38;5;241m.\u001B[39mretry_writes\n\u001B[0;32m   1437\u001B[0m              \u001B[38;5;129;01mand\u001B[39;00m session \u001B[38;5;129;01mand\u001B[39;00m \u001B[38;5;129;01mnot\u001B[39;00m session\u001B[38;5;241m.\u001B[39min_transaction)\n\u001B[1;32m-> 1438\u001B[0m \u001B[38;5;28;01mreturn\u001B[39;00m \u001B[38;5;28;43mself\u001B[39;49m\u001B[38;5;241;43m.\u001B[39;49m\u001B[43m_retry_internal\u001B[49m\u001B[43m(\u001B[49m\u001B[43mretryable\u001B[49m\u001B[43m,\u001B[49m\u001B[43m \u001B[49m\u001B[43mfunc\u001B[49m\u001B[43m,\u001B[49m\u001B[43m \u001B[49m\u001B[43msession\u001B[49m\u001B[43m,\u001B[49m\u001B[43m \u001B[49m\u001B[43mbulk\u001B[49m\u001B[43m)\u001B[49m\n",
      "File \u001B[1;32mC:\\Mine\\project\\pymongo\\venv\\lib\\site-packages\\pymongo\\mongo_client.py:1470\u001B[0m, in \u001B[0;36mMongoClient._retry_internal\u001B[1;34m(self, retryable, func, session, bulk)\u001B[0m\n\u001B[0;32m   1468\u001B[0m                 \u001B[38;5;28;01mraise\u001B[39;00m last_error\n\u001B[0;32m   1469\u001B[0m             retryable \u001B[38;5;241m=\u001B[39m \u001B[38;5;28;01mFalse\u001B[39;00m\n\u001B[1;32m-> 1470\u001B[0m         \u001B[38;5;28;01mreturn\u001B[39;00m \u001B[43mfunc\u001B[49m\u001B[43m(\u001B[49m\u001B[43msession\u001B[49m\u001B[43m,\u001B[49m\u001B[43m \u001B[49m\u001B[43msock_info\u001B[49m\u001B[43m,\u001B[49m\u001B[43m \u001B[49m\u001B[43mretryable\u001B[49m\u001B[43m)\u001B[49m\n\u001B[0;32m   1471\u001B[0m \u001B[38;5;28;01mexcept\u001B[39;00m ServerSelectionTimeoutError:\n\u001B[0;32m   1472\u001B[0m     \u001B[38;5;28;01mif\u001B[39;00m is_retrying():\n\u001B[0;32m   1473\u001B[0m         \u001B[38;5;66;03m# The application may think the write was never attempted\u001B[39;00m\n\u001B[0;32m   1474\u001B[0m         \u001B[38;5;66;03m# if we raise ServerSelectionTimeoutError on the retry\u001B[39;00m\n\u001B[0;32m   1475\u001B[0m         \u001B[38;5;66;03m# attempt. Raise the original exception instead.\u001B[39;00m\n",
      "File \u001B[1;32mC:\\Mine\\project\\pymongo\\venv\\lib\\site-packages\\pymongo\\collection.py:869\u001B[0m, in \u001B[0;36mCollection._update_retryable.<locals>._update\u001B[1;34m(session, sock_info, retryable_write)\u001B[0m\n\u001B[0;32m    868\u001B[0m \u001B[38;5;28;01mdef\u001B[39;00m \u001B[38;5;21m_update\u001B[39m(session, sock_info, retryable_write):\n\u001B[1;32m--> 869\u001B[0m     \u001B[38;5;28;01mreturn\u001B[39;00m \u001B[38;5;28;43mself\u001B[39;49m\u001B[38;5;241;43m.\u001B[39;49m\u001B[43m_update\u001B[49m\u001B[43m(\u001B[49m\n\u001B[0;32m    870\u001B[0m \u001B[43m        \u001B[49m\u001B[43msock_info\u001B[49m\u001B[43m,\u001B[49m\u001B[43m \u001B[49m\u001B[43mcriteria\u001B[49m\u001B[43m,\u001B[49m\u001B[43m \u001B[49m\u001B[43mdocument\u001B[49m\u001B[43m,\u001B[49m\u001B[43m \u001B[49m\u001B[43mupsert\u001B[49m\u001B[38;5;241;43m=\u001B[39;49m\u001B[43mupsert\u001B[49m\u001B[43m,\u001B[49m\n\u001B[0;32m    871\u001B[0m \u001B[43m        \u001B[49m\u001B[43mcheck_keys\u001B[49m\u001B[38;5;241;43m=\u001B[39;49m\u001B[43mcheck_keys\u001B[49m\u001B[43m,\u001B[49m\u001B[43m \u001B[49m\u001B[43mmulti\u001B[49m\u001B[38;5;241;43m=\u001B[39;49m\u001B[43mmulti\u001B[49m\u001B[43m,\u001B[49m\u001B[43m \u001B[49m\u001B[43mmanipulate\u001B[49m\u001B[38;5;241;43m=\u001B[39;49m\u001B[43mmanipulate\u001B[49m\u001B[43m,\u001B[49m\n\u001B[0;32m    872\u001B[0m \u001B[43m        \u001B[49m\u001B[43mwrite_concern\u001B[49m\u001B[38;5;241;43m=\u001B[39;49m\u001B[43mwrite_concern\u001B[49m\u001B[43m,\u001B[49m\u001B[43m \u001B[49m\u001B[43mop_id\u001B[49m\u001B[38;5;241;43m=\u001B[39;49m\u001B[43mop_id\u001B[49m\u001B[43m,\u001B[49m\u001B[43m \u001B[49m\u001B[43mordered\u001B[49m\u001B[38;5;241;43m=\u001B[39;49m\u001B[43mordered\u001B[49m\u001B[43m,\u001B[49m\n\u001B[0;32m    873\u001B[0m \u001B[43m        \u001B[49m\u001B[43mbypass_doc_val\u001B[49m\u001B[38;5;241;43m=\u001B[39;49m\u001B[43mbypass_doc_val\u001B[49m\u001B[43m,\u001B[49m\u001B[43m \u001B[49m\u001B[43mcollation\u001B[49m\u001B[38;5;241;43m=\u001B[39;49m\u001B[43mcollation\u001B[49m\u001B[43m,\u001B[49m\n\u001B[0;32m    874\u001B[0m \u001B[43m        \u001B[49m\u001B[43marray_filters\u001B[49m\u001B[38;5;241;43m=\u001B[39;49m\u001B[43marray_filters\u001B[49m\u001B[43m,\u001B[49m\u001B[43m \u001B[49m\u001B[43mhint\u001B[49m\u001B[38;5;241;43m=\u001B[39;49m\u001B[43mhint\u001B[49m\u001B[43m,\u001B[49m\u001B[43m \u001B[49m\u001B[43msession\u001B[49m\u001B[38;5;241;43m=\u001B[39;49m\u001B[43msession\u001B[49m\u001B[43m,\u001B[49m\n\u001B[0;32m    875\u001B[0m \u001B[43m        \u001B[49m\u001B[43mretryable_write\u001B[49m\u001B[38;5;241;43m=\u001B[39;49m\u001B[43mretryable_write\u001B[49m\u001B[43m)\u001B[49m\n",
      "File \u001B[1;32mC:\\Mine\\project\\pymongo\\venv\\lib\\site-packages\\pymongo\\collection.py:846\u001B[0m, in \u001B[0;36mCollection._update\u001B[1;34m(self, sock_info, criteria, document, upsert, check_keys, multi, manipulate, write_concern, op_id, ordered, bypass_doc_val, collation, array_filters, hint, session, retryable_write)\u001B[0m\n\u001B[0;32m    836\u001B[0m \u001B[38;5;66;03m# The command result has to be published for APM unmodified\u001B[39;00m\n\u001B[0;32m    837\u001B[0m \u001B[38;5;66;03m# so we make a shallow copy here before adding updatedExisting.\u001B[39;00m\n\u001B[0;32m    838\u001B[0m result \u001B[38;5;241m=\u001B[39m sock_info\u001B[38;5;241m.\u001B[39mcommand(\n\u001B[0;32m    839\u001B[0m     \u001B[38;5;28mself\u001B[39m\u001B[38;5;241m.\u001B[39m__database\u001B[38;5;241m.\u001B[39mname,\n\u001B[0;32m    840\u001B[0m     command,\n\u001B[1;32m   (...)\u001B[0m\n\u001B[0;32m    844\u001B[0m     client\u001B[38;5;241m=\u001B[39m\u001B[38;5;28mself\u001B[39m\u001B[38;5;241m.\u001B[39m__database\u001B[38;5;241m.\u001B[39mclient,\n\u001B[0;32m    845\u001B[0m     retryable_write\u001B[38;5;241m=\u001B[39mretryable_write)\u001B[38;5;241m.\u001B[39mcopy()\n\u001B[1;32m--> 846\u001B[0m \u001B[43m_check_write_command_response\u001B[49m\u001B[43m(\u001B[49m\u001B[43mresult\u001B[49m\u001B[43m)\u001B[49m\n\u001B[0;32m    847\u001B[0m \u001B[38;5;66;03m# Add the updatedExisting field for compatibility.\u001B[39;00m\n\u001B[0;32m    848\u001B[0m \u001B[38;5;28;01mif\u001B[39;00m result\u001B[38;5;241m.\u001B[39mget(\u001B[38;5;124m'\u001B[39m\u001B[38;5;124mn\u001B[39m\u001B[38;5;124m'\u001B[39m) \u001B[38;5;129;01mand\u001B[39;00m \u001B[38;5;124m'\u001B[39m\u001B[38;5;124mupserted\u001B[39m\u001B[38;5;124m'\u001B[39m \u001B[38;5;129;01mnot\u001B[39;00m \u001B[38;5;129;01min\u001B[39;00m result:\n",
      "File \u001B[1;32mC:\\Mine\\project\\pymongo\\venv\\lib\\site-packages\\pymongo\\helpers.py:229\u001B[0m, in \u001B[0;36m_check_write_command_response\u001B[1;34m(result)\u001B[0m\n\u001B[0;32m    227\u001B[0m write_errors \u001B[38;5;241m=\u001B[39m result\u001B[38;5;241m.\u001B[39mget(\u001B[38;5;124m\"\u001B[39m\u001B[38;5;124mwriteErrors\u001B[39m\u001B[38;5;124m\"\u001B[39m)\n\u001B[0;32m    228\u001B[0m \u001B[38;5;28;01mif\u001B[39;00m write_errors:\n\u001B[1;32m--> 229\u001B[0m     \u001B[43m_raise_last_write_error\u001B[49m\u001B[43m(\u001B[49m\u001B[43mwrite_errors\u001B[49m\u001B[43m)\u001B[49m\n\u001B[0;32m    231\u001B[0m error \u001B[38;5;241m=\u001B[39m result\u001B[38;5;241m.\u001B[39mget(\u001B[38;5;124m\"\u001B[39m\u001B[38;5;124mwriteConcernError\u001B[39m\u001B[38;5;124m\"\u001B[39m)\n\u001B[0;32m    232\u001B[0m \u001B[38;5;28;01mif\u001B[39;00m error:\n",
      "File \u001B[1;32mC:\\Mine\\project\\pymongo\\venv\\lib\\site-packages\\pymongo\\helpers.py:211\u001B[0m, in \u001B[0;36m_raise_last_write_error\u001B[1;34m(write_errors)\u001B[0m\n\u001B[0;32m    209\u001B[0m \u001B[38;5;28;01mif\u001B[39;00m error\u001B[38;5;241m.\u001B[39mget(\u001B[38;5;124m\"\u001B[39m\u001B[38;5;124mcode\u001B[39m\u001B[38;5;124m\"\u001B[39m) \u001B[38;5;241m==\u001B[39m \u001B[38;5;241m11000\u001B[39m:\n\u001B[0;32m    210\u001B[0m     \u001B[38;5;28;01mraise\u001B[39;00m DuplicateKeyError(error\u001B[38;5;241m.\u001B[39mget(\u001B[38;5;124m\"\u001B[39m\u001B[38;5;124merrmsg\u001B[39m\u001B[38;5;124m\"\u001B[39m), \u001B[38;5;241m11000\u001B[39m, error)\n\u001B[1;32m--> 211\u001B[0m \u001B[38;5;28;01mraise\u001B[39;00m WriteError(error\u001B[38;5;241m.\u001B[39mget(\u001B[38;5;124m\"\u001B[39m\u001B[38;5;124merrmsg\u001B[39m\u001B[38;5;124m\"\u001B[39m), error\u001B[38;5;241m.\u001B[39mget(\u001B[38;5;124m\"\u001B[39m\u001B[38;5;124mcode\u001B[39m\u001B[38;5;124m\"\u001B[39m), error)\n",
      "\u001B[1;31mWriteError\u001B[0m: Expected a number in: departments: \"Home\", full error: {'index': 0, 'code': 9, 'errmsg': 'Expected a number in: departments: \"Home\"'}"
     ]
    }
   ],
   "source": [
    "update_many_res = db.items.update_many({\"name\":\"Mug\"}, {\"$pop\":{\"departments\":1}})\n",
    "update_many_res"
   ]
  },
  {
   "cell_type": "code",
   "execution_count": null,
   "id": "cd46c9de",
   "metadata": {},
   "outputs": [],
   "source": []
  },
  {
   "cell_type": "code",
   "execution_count": null,
   "id": "827db4db",
   "metadata": {},
   "outputs": [],
   "source": []
  },
  {
   "cell_type": "code",
   "execution_count": null,
   "id": "13378362",
   "metadata": {},
   "outputs": [],
   "source": []
  },
  {
   "cell_type": "code",
   "execution_count": null,
   "id": "70c482f3",
   "metadata": {},
   "outputs": [],
   "source": []
  },
  {
   "cell_type": "code",
   "execution_count": null,
   "id": "6677df1f",
   "metadata": {},
   "outputs": [],
   "source": []
  },
  {
   "cell_type": "markdown",
   "id": "2904712b",
   "metadata": {},
   "source": [
    "### Sets VS Arrays"
   ]
  },
  {
   "cell_type": "code",
   "execution_count": null,
   "id": "cf1b2d1a",
   "metadata": {},
   "outputs": [],
   "source": []
  },
  {
   "cell_type": "code",
   "execution_count": null,
   "id": "98718518",
   "metadata": {},
   "outputs": [],
   "source": []
  },
  {
   "cell_type": "code",
   "execution_count": null,
   "id": "a8b85b21",
   "metadata": {},
   "outputs": [],
   "source": []
  },
  {
   "cell_type": "code",
   "execution_count": null,
   "id": "0577cd8f",
   "metadata": {},
   "outputs": [],
   "source": []
  },
  {
   "cell_type": "code",
   "execution_count": null,
   "id": "87afa4e2",
   "metadata": {},
   "outputs": [],
   "source": []
  },
  {
   "cell_type": "code",
   "execution_count": null,
   "id": "f5bdc49e",
   "metadata": {},
   "outputs": [],
   "source": []
  },
  {
   "cell_type": "code",
   "execution_count": null,
   "id": "8b5fc38a",
   "metadata": {},
   "outputs": [],
   "source": []
  }
 ],
 "metadata": {
  "kernelspec": {
   "display_name": "Python 3 (ipykernel)",
   "language": "python",
   "name": "python3"
  },
  "language_info": {
   "codemirror_mode": {
    "name": "ipython",
    "version": 3
   },
   "file_extension": ".py",
   "mimetype": "text/x-python",
   "name": "python",
   "nbconvert_exporter": "python",
   "pygments_lexer": "ipython3",
   "version": "3.8.11"
  }
 },
 "nbformat": 4,
 "nbformat_minor": 5
}
