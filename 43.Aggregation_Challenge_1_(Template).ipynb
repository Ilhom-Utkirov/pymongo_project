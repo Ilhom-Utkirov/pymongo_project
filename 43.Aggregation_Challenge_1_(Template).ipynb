{
 "cells": [
  {
   "cell_type": "markdown",
   "id": "ccfcc3b3",
   "metadata": {},
   "source": [
    "# Aggregation Mini Challenge 1\n",
    "\n",
    "Apply what you have learned so far about the aggregation framework to try solve this challenge"
   ]
  },
  {
   "cell_type": "code",
   "execution_count": 13,
   "id": "a5bc05db",
   "metadata": {},
   "outputs": [],
   "source": [
    "# Import pymongo dependencies\n",
    "from  pymongo import MongoClient"
   ]
  },
  {
   "cell_type": "code",
   "execution_count": 14,
   "id": "82db96de",
   "metadata": {},
   "outputs": [],
   "source": [
    "# Set up your MongoClient and database variable\n",
    "mongodb_url = \"mongodb://localhost:27017/\"\n",
    "db_name = \"aggregation_test\"\n",
    "client = MongoClient(mongodb_url)\n",
    "db = client[db_name]"
   ]
  },
  {
   "cell_type": "code",
   "execution_count": 15,
   "id": "072bba0e",
   "metadata": {},
   "outputs": [],
   "source": [
    "# Function which prints out all the results of a cursor\n",
    "def print_cursor(cursor):\n",
    "    for document in cursor:\n",
    "        print(document, end=\"\\n\\n\")"
   ]
  },
  {
   "cell_type": "code",
   "execution_count": 98,
   "id": "e8b96a24",
   "metadata": {},
   "outputs": [
    {
     "name": "stdout",
     "output_type": "stream",
     "text": [
      "{'beauty_product_seller_id': ObjectId('640b4ff43c493ec195566197')}\n",
      "\n",
      "{'beauty_product_seller_id': ObjectId('640b4ff43c493ec195566193')}\n",
      "\n",
      "{'beauty_product_seller_id': ObjectId('640b4ff43c493ec195566196')}\n",
      "\n",
      "=================================================================================================\n",
      "{'beauty_product_seller_id': ObjectId('640b4ff43c493ec195566193')}\n",
      "\n",
      "{'beauty_product_seller_id': ObjectId('640b4ff43c493ec195566193')}\n",
      "\n",
      "{'beauty_product_seller_id': ObjectId('640b4ff43c493ec195566196')}\n",
      "\n",
      "{'beauty_product_seller_id': ObjectId('640b4ff43c493ec195566197')}\n",
      "\n"
     ]
    }
   ],
   "source": [
    "### Challenge Part 1:\n",
    "###   Return entries of each unique 'seller_id' associated with the  \n",
    "###   'products' collection that have a \"Beauty\" tag. These entries should\n",
    "###   have an attribute called 'beauty_product_seller_id' which is set \n",
    "###   equal to the related 'seller_id' of the product.\n",
    "###\n",
    "### Example entry from cursor: \n",
    "###  {'beauty_product_seller_id': ObjectId(...)}\n",
    "\n",
    "#official\n",
    "#mysoulution\n",
    "beauty_cursor = db.products.aggregate([\n",
    "\n",
    "    {\"$match\": {\"tags\" : \"Beauty\"} },\n",
    "    #sort duplicate seller ids. Get distinct seller ids\n",
    "    {\"$group\": {\"_id\": \"$seller_id\" }},\n",
    "    # change the name\n",
    "     {\"$project\": {\"_id\":0, \"beauty_product_seller_id\": \"$_id\"}}\n",
    "])\n",
    "print_cursor(beauty_cursor)\n",
    "\n",
    "print(\"=================================================================================================\")\n",
    "\n",
    "#mysoulution\n",
    "# wrong duplicates arenot resolved\n",
    "beauty_cursor = db.products.aggregate([\n",
    "    {\"$unwind\": \"$tags\"},\n",
    "    {\"$match\": {\"tags\" : \"Beauty\"} },\n",
    "    {\"$project\": {\"_id\":0, \"beauty_product_seller_id\": \"$seller_id\"}}\n",
    "])\n",
    "print_cursor(beauty_cursor)\n"
   ]
  },
  {
   "cell_type": "code",
   "execution_count": null,
   "id": "79071a23",
   "metadata": {},
   "outputs": [],
   "source": [
    "# Print out your results\n"
   ]
  },
  {
   "cell_type": "code",
   "execution_count": 102,
   "id": "5c4eaeb3",
   "metadata": {},
   "outputs": [
    {
     "name": "stdout",
     "output_type": "stream",
     "text": [
      "{'tag': 'Office', 'seller_ids': [ObjectId('640b4ff43c493ec195566194')]}\n",
      "\n",
      "{'tag': 'Beauty', 'seller_ids': [ObjectId('640b4ff43c493ec195566197'), ObjectId('640b4ff43c493ec195566193'), ObjectId('640b4ff43c493ec195566196')]}\n",
      "\n",
      "{'tag': 'Kitchen', 'seller_ids': [ObjectId('640b4ff43c493ec195566193')]}\n",
      "\n",
      "{'tag': 'Home', 'seller_ids': [ObjectId('640b4ff43c493ec195566193')]}\n",
      "\n",
      "{'tag': 'School', 'seller_ids': [ObjectId('640b4ff43c493ec195566194')]}\n",
      "\n",
      "=================================================================================================\n",
      "{'tag': 'Office', 'seller_ids': [ObjectId('640b4ff43c493ec195566194'), ObjectId('640b4ff43c493ec195566194')]}\n",
      "\n",
      "{'tag': 'Beauty', 'seller_ids': [ObjectId('640b4ff43c493ec195566193'), ObjectId('640b4ff43c493ec195566193'), ObjectId('640b4ff43c493ec195566196'), ObjectId('640b4ff43c493ec195566197')]}\n",
      "\n",
      "{'tag': 'Kitchen', 'seller_ids': [ObjectId('640b4ff43c493ec195566193')]}\n",
      "\n",
      "{'tag': 'Home', 'seller_ids': [ObjectId('640b4ff43c493ec195566193')]}\n",
      "\n",
      "{'tag': 'School', 'seller_ids': [ObjectId('640b4ff43c493ec195566194'), ObjectId('640b4ff43c493ec195566194')]}\n",
      "\n"
     ]
    }
   ],
   "source": [
    "### Challenge Part 2:\n",
    "###   Get an array of 'seller_id' attributes from products for each avaiable\n",
    "###   'tag' entry. Result entries should include a 'tag' attribute and a\n",
    "###   'seller_ids' attribute which is an array with all the 'seller_id'.\n",
    "###  \n",
    "### Example entry from cursor: \n",
    "### {'tag': 'Kitchen',\"seller_ids\": [ObjectId(...)]}\n",
    "\n",
    "#official solution\n",
    "beauty_cursor = db.products.aggregate([\n",
    "    {\"$unwind\": \"$tags\"},\n",
    "     {\"$group\": { \"_id\":\"$tags\", \"seller_ids\":{\n",
    "         \"$addToSet\":\"$seller_id\"\n",
    "     }} },\n",
    "    {\"$project\": {\"_id\":0, \"tag\": \"$_id\", \"seller_ids\": \"$seller_ids\"}}\n",
    "])\n",
    "print_cursor(beauty_cursor)\n",
    "print(\"=================================================================================================\")\n",
    "### my solution\n",
    "### us used push but it isnot counting duplicates into account\n",
    "beauty_cursor = db.products.aggregate([\n",
    "    {\"$unwind\": \"$tags\"},\n",
    "    {\"$group\": { \"_id\":\"$tags\", \"seller_ids\":{\"$push\":\"$seller_id\"}} },\n",
    "    {\"$project\": {\"_id\":0, \"tag\": \"$_id\", \"seller_ids\": \"$seller_ids\"}}\n",
    "])\n",
    "print_cursor(beauty_cursor)"
   ]
  },
  {
   "cell_type": "code",
   "execution_count": null,
   "id": "47d98d2d",
   "metadata": {},
   "outputs": [],
   "source": [
    "# Print out your results\n"
   ]
  },
  {
   "cell_type": "code",
   "execution_count": 107,
   "id": "ff0a980a",
   "metadata": {},
   "outputs": [
    {
     "name": "stdout",
     "output_type": "stream",
     "text": [
      "{'tag': 'Beauty', 'num_sellers': 3}\n",
      "\n",
      "{'tag': 'Home', 'num_sellers': 1}\n",
      "\n",
      "{'tag': 'Kitchen', 'num_sellers': 1}\n",
      "\n",
      "{'tag': 'Office', 'num_sellers': 1}\n",
      "\n",
      "{'tag': 'School', 'num_sellers': 1}\n",
      "\n",
      "=================================================================================================\n"
     ]
    }
   ],
   "source": [
    "### Challenge Part 3:\n",
    "###   Display the number of unique seller ids there are for each availble \n",
    "###   'tag' for 'products'. Result entries should include a 'tag' attribute\n",
    "###   and a 'num_sellers' attribute which is a integer. Sort by 'tag' name.\n",
    "###  \n",
    "### Example entry from cursor: \n",
    "### {'tag': 'Kitchen',\"num_sellers\": 1}\n",
    "\n",
    "\n",
    "\n",
    "#official solution\n",
    "beauty_cursor = db.products.aggregate([\n",
    "    {\"$unwind\": \"$tags\"},\n",
    "     {\"$group\": { \"_id\":\"$tags\", \"seller_ids\":{\n",
    "         \"$addToSet\":\"$seller_id\"\n",
    "     }} },\n",
    "    {\"$project\": {\"_id\":0, \"tag\": \"$_id\",  \"num_sellers\":{  \"$size\": \"$seller_ids\"} }},\n",
    "    {\"$sort\":{\"tag\" : 1}},\n",
    "])\n",
    "print_cursor(beauty_cursor)\n",
    "print(\"=================================================================================================\")\n"
   ]
  },
  {
   "cell_type": "code",
   "execution_count": 105,
   "outputs": [
    {
     "name": "stdout",
     "output_type": "stream",
     "text": [
      "{'tag': 'Beauty', 'num_sellers': 3}\n",
      "\n",
      "{'tag': 'Office', 'num_sellers': 1}\n",
      "\n",
      "{'tag': 'Kitchen', 'num_sellers': 1}\n",
      "\n",
      "{'tag': 'Home', 'num_sellers': 1}\n",
      "\n",
      "{'tag': 'School', 'num_sellers': 1}\n",
      "\n"
     ]
    }
   ],
   "source": [
    "#my solution\n",
    "sortByCount_cursor = db.products.aggregate([\n",
    "    {\"$unwind\":\"$tags\"},\n",
    "    {\"$group\": {\"_id\":\"$tags\", \"seller_ids\":{  \"$addToSet\":\"$seller_id\"} }},\n",
    "    {\"$project\": {\"_id\":0, \"tag\":\"$_id\", \"num_sellers\":{  \"$size\": \"$seller_ids\"} }},\n",
    "    {\"$sort\":{\"num_sellers\" : -1}},\n",
    "])\n",
    "print_cursor(sortByCount_cursor)"
   ],
   "metadata": {
    "collapsed": false
   }
  },
  {
   "cell_type": "code",
   "execution_count": null,
   "id": "5bc3fe75",
   "metadata": {},
   "outputs": [],
   "source": [
    "# Print out your results\n"
   ]
  }
 ],
 "metadata": {
  "kernelspec": {
   "display_name": "Python 3 (ipykernel)",
   "language": "python",
   "name": "python3"
  },
  "language_info": {
   "codemirror_mode": {
    "name": "ipython",
    "version": 3
   },
   "file_extension": ".py",
   "mimetype": "text/x-python",
   "name": "python",
   "nbconvert_exporter": "python",
   "pygments_lexer": "ipython3",
   "version": "3.8.11"
  }
 },
 "nbformat": 4,
 "nbformat_minor": 5
}
